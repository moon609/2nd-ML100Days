{
 "cells": [
  {
   "cell_type": "markdown",
   "metadata": {},
   "source": [
    "## Work\n",
    "1. 請嘗試寫一個 callback 用來記錄各類別在訓練過程中，對驗證集的 True Positive 與 True Negative"
   ]
  },
  {
   "cell_type": "code",
   "execution_count": 9,
   "metadata": {},
   "outputs": [],
   "source": [
    "import os\n",
    "import keras\n",
    "import numpy as np\n",
    "\n",
    "# Disable GPU\n",
    "os.environ[\"CUDA_VISIBLE_DEVICES\"] = \"\""
   ]
  },
  {
   "cell_type": "code",
   "execution_count": 2,
   "metadata": {},
   "outputs": [],
   "source": [
    "train, test = keras.datasets.cifar10.load_data()"
   ]
  },
  {
   "cell_type": "code",
   "execution_count": 3,
   "metadata": {},
   "outputs": [],
   "source": [
    "## 資料前處理\n",
    "def preproc_x(x, flatten=True):\n",
    "    x = x / 255.\n",
    "    if flatten:\n",
    "        x = x.reshape((len(x), -1))\n",
    "    return x\n",
    "\n",
    "def preproc_y(y, num_classes=10):\n",
    "    if y.shape[-1] == 1:\n",
    "        y = keras.utils.to_categorical(y, num_classes)\n",
    "    return y    "
   ]
  },
  {
   "cell_type": "code",
   "execution_count": 4,
   "metadata": {},
   "outputs": [],
   "source": [
    "x_train, y_train = train\n",
    "x_test, y_test = test\n",
    "\n",
    "# Preproc the inputs\n",
    "x_train = preproc_x(x_train)\n",
    "x_test = preproc_x(x_test)\n",
    "\n",
    "# Preprc the outputs\n",
    "y_train = preproc_y(y_train)\n",
    "y_test = preproc_y(y_test)"
   ]
  },
  {
   "cell_type": "code",
   "execution_count": 5,
   "metadata": {},
   "outputs": [],
   "source": [
    "from keras.layers import BatchNormalization\n",
    "\n",
    "\"\"\"\n",
    "建立神經網路，並加入 BN layer\n",
    "\"\"\"\n",
    "def build_mlp(input_shape, output_units=10, num_neurons=[256, 256, 256]):\n",
    "    input_layer = keras.layers.Input(input_shape)\n",
    "    \n",
    "    for i, n_units in enumerate(num_neurons):\n",
    "        if i == 0:\n",
    "            x = keras.layers.Dense(units=n_units, \n",
    "                                   activation=\"relu\", \n",
    "                                   name=\"hidden_layer\"+str(i+1))(input_layer)\n",
    "            x = BatchNormalization()(x)\n",
    "        else:\n",
    "            x = keras.layers.Dense(units=n_units, \n",
    "                                   activation=\"relu\", \n",
    "                                   name=\"hidden_layer\"+str(i+1))(x)\n",
    "            x = BatchNormalization()(x)\n",
    "    \n",
    "    out = keras.layers.Dense(units=output_units, activation=\"softmax\", name=\"output\")(x)\n",
    "    \n",
    "    model = keras.models.Model(inputs=[input_layer], outputs=[out])\n",
    "    return model"
   ]
  },
  {
   "cell_type": "code",
   "execution_count": 6,
   "metadata": {},
   "outputs": [],
   "source": [
    "## 超參數設定\n",
    "LEARNING_RATE = 1e-3\n",
    "EPOCHS = 25\n",
    "BATCH_SIZE = 1024\n",
    "MOMENTUM = 0.95"
   ]
  },
  {
   "cell_type": "code",
   "execution_count": 7,
   "metadata": {},
   "outputs": [],
   "source": [
    "# 載入 Callbacks\n",
    "from keras.callbacks import Callback\n",
    "\n",
    "# Record_fp_tp\n",
    "class Record_tp_tn(Callback):\n",
    "    \"\"\"Code Here\n",
    "    撰寫一個紀錄 ture positive 與 true negative 數量的 callbacks    \n",
    "    \"\"\"\n",
    "    def on_train_begin(self, epoch, logs = {}):\n",
    "        logs = logs or {}\n",
    "        record_items = [\"val_auc\", \"val_f1sc\", \"val_fp\", \"val_fn\", \"val_tp\", \"val_tn\"]\n",
    "        for i in record_items:\n",
    "            if i not in self.params['metrics']:\n",
    "                self.params['metrics'].append(i)\n",
    "    \n",
    "    def on_epoch_end(self, epoch, logs = {}, thres=0.5):\n",
    "        logs = logs or {}\n",
    "        y_true = self.validation_data[1].argmax(axis = 1)\n",
    "        y_pred = self.model.predict(self.validation_data[0])\n",
    "        y_pred = (y_pred[:, 1] >= thres) * 1\n",
    "        \n",
    "        logs[\"val_tp\"] = np.sum(np.logical_and(y_true == 1, y_pred == 1)) \n",
    "        logs[\"val_tn\"] = np.sum(np.logical_and(y_true == 0, y_pred == 0)) \n",
    "          \n",
    "rec_tptn = Record_tp_tn()"
   ]
  },
  {
   "cell_type": "code",
   "execution_count": 10,
   "metadata": {
    "scrolled": true
   },
   "outputs": [
    {
     "name": "stdout",
     "output_type": "stream",
     "text": [
      "_________________________________________________________________\n",
      "Layer (type)                 Output Shape              Param #   \n",
      "=================================================================\n",
      "input_2 (InputLayer)         (None, 3072)              0         \n",
      "_________________________________________________________________\n",
      "hidden_layer1 (Dense)        (None, 256)               786688    \n",
      "_________________________________________________________________\n",
      "batch_normalization_4 (Batch (None, 256)               1024      \n",
      "_________________________________________________________________\n",
      "hidden_layer2 (Dense)        (None, 256)               65792     \n",
      "_________________________________________________________________\n",
      "batch_normalization_5 (Batch (None, 256)               1024      \n",
      "_________________________________________________________________\n",
      "hidden_layer3 (Dense)        (None, 256)               65792     \n",
      "_________________________________________________________________\n",
      "batch_normalization_6 (Batch (None, 256)               1024      \n",
      "_________________________________________________________________\n",
      "output (Dense)               (None, 10)                2570      \n",
      "=================================================================\n",
      "Total params: 923,914\n",
      "Trainable params: 922,378\n",
      "Non-trainable params: 1,536\n",
      "_________________________________________________________________\n",
      "Train on 50000 samples, validate on 10000 samples\n",
      "Epoch 1/25\n",
      "50000/50000 [==============================] - 11s 210us/step - loss: 2.2439 - acc: 0.2689 - val_loss: 2.2159 - val_acc: 0.3076\n",
      "Epoch 2/25\n",
      "50000/50000 [==============================] - 6s 121us/step - loss: 1.7495 - acc: 0.3896 - val_loss: 1.8345 - val_acc: 0.3763\n",
      "Epoch 3/25\n",
      "50000/50000 [==============================] - 6s 129us/step - loss: 1.6226 - acc: 0.4336 - val_loss: 1.6979 - val_acc: 0.4038\n",
      "Epoch 4/25\n",
      "50000/50000 [==============================] - 8s 156us/step - loss: 1.5506 - acc: 0.4566 - val_loss: 1.6508 - val_acc: 0.4239\n",
      "Epoch 5/25\n",
      "50000/50000 [==============================] - 7s 146us/step - loss: 1.4958 - acc: 0.4774 - val_loss: 1.5988 - val_acc: 0.4416\n",
      "Epoch 6/25\n",
      "50000/50000 [==============================] - 7s 145us/step - loss: 1.4522 - acc: 0.4919 - val_loss: 1.5647 - val_acc: 0.4507\n",
      "Epoch 7/25\n",
      "50000/50000 [==============================] - 7s 146us/step - loss: 1.4145 - acc: 0.5050 - val_loss: 1.5457 - val_acc: 0.4523\n",
      "Epoch 8/25\n",
      "50000/50000 [==============================] - 7s 149us/step - loss: 1.3814 - acc: 0.5172 - val_loss: 1.5379 - val_acc: 0.4624\n",
      "Epoch 9/25\n",
      "50000/50000 [==============================] - 8s 151us/step - loss: 1.3522 - acc: 0.5292 - val_loss: 1.5232 - val_acc: 0.4654\n",
      "Epoch 10/25\n",
      "50000/50000 [==============================] - 8s 153us/step - loss: 1.3241 - acc: 0.5380 - val_loss: 1.4999 - val_acc: 0.4730\n",
      "Epoch 11/25\n",
      "50000/50000 [==============================] - 9s 177us/step - loss: 1.2996 - acc: 0.5476 - val_loss: 1.4901 - val_acc: 0.4724\n",
      "Epoch 12/25\n",
      "50000/50000 [==============================] - 8s 159us/step - loss: 1.2760 - acc: 0.5533 - val_loss: 1.4913 - val_acc: 0.4719\n",
      "Epoch 13/25\n",
      "50000/50000 [==============================] - 7s 150us/step - loss: 1.2528 - acc: 0.5653 - val_loss: 1.4865 - val_acc: 0.4744\n",
      "Epoch 14/25\n",
      "50000/50000 [==============================] - 9s 178us/step - loss: 1.2320 - acc: 0.5724 - val_loss: 1.4672 - val_acc: 0.4812\n",
      "Epoch 15/25\n",
      "50000/50000 [==============================] - 8s 156us/step - loss: 1.2115 - acc: 0.5817 - val_loss: 1.4664 - val_acc: 0.4821\n",
      "Epoch 16/25\n",
      "50000/50000 [==============================] - 8s 154us/step - loss: 1.1916 - acc: 0.5873 - val_loss: 1.4679 - val_acc: 0.4804\n",
      "Epoch 17/25\n",
      "50000/50000 [==============================] - 8s 153us/step - loss: 1.1728 - acc: 0.5962 - val_loss: 1.4633 - val_acc: 0.4845\n",
      "Epoch 18/25\n",
      "50000/50000 [==============================] - 8s 160us/step - loss: 1.1534 - acc: 0.6036 - val_loss: 1.4540 - val_acc: 0.4884\n",
      "Epoch 19/25\n",
      "50000/50000 [==============================] - 8s 167us/step - loss: 1.1360 - acc: 0.6098 - val_loss: 1.4471 - val_acc: 0.4874\n",
      "Epoch 20/25\n",
      "50000/50000 [==============================] - 8s 153us/step - loss: 1.1176 - acc: 0.6159 - val_loss: 1.4564 - val_acc: 0.4884\n",
      "Epoch 21/25\n",
      "50000/50000 [==============================] - 8s 158us/step - loss: 1.1011 - acc: 0.6231 - val_loss: 1.4452 - val_acc: 0.4948\n",
      "Epoch 22/25\n",
      "50000/50000 [==============================] - 8s 154us/step - loss: 1.0822 - acc: 0.6303 - val_loss: 1.4521 - val_acc: 0.4909\n",
      "Epoch 23/25\n",
      "50000/50000 [==============================] - 7s 150us/step - loss: 1.0650 - acc: 0.6374 - val_loss: 1.4505 - val_acc: 0.4932\n",
      "Epoch 24/25\n",
      "50000/50000 [==============================] - 8s 155us/step - loss: 1.0492 - acc: 0.6413 - val_loss: 1.4656 - val_acc: 0.4865\n",
      "Epoch 25/25\n",
      "50000/50000 [==============================] - 8s 155us/step - loss: 1.0320 - acc: 0.6495 - val_loss: 1.4532 - val_acc: 0.4942\n"
     ]
    }
   ],
   "source": [
    "model = build_mlp(input_shape=x_train.shape[1:])\n",
    "model.summary()\n",
    "optimizer = keras.optimizers.SGD(lr=LEARNING_RATE, nesterov=True, momentum=MOMENTUM)\n",
    "model.compile(loss=\"categorical_crossentropy\", metrics=[\"accuracy\"], optimizer=optimizer)\n",
    "\n",
    "\"\"\"Code Here\n",
    "將 callbacks 放入模型訓練流程中\n",
    "\"\"\"\n",
    "model.fit(x_train, y_train, \n",
    "          epochs=EPOCHS, \n",
    "          batch_size=BATCH_SIZE, \n",
    "          validation_data=(x_test, y_test), \n",
    "          shuffle=True,\n",
    "          callbacks=[rec_tptn]\n",
    "         )\n",
    "\n",
    "# Collect results\n",
    "train_loss = model.history.history[\"loss\"]\n",
    "valid_loss = model.history.history[\"val_loss\"]\n",
    "train_acc = model.history.history[\"acc\"]\n",
    "valid_acc = model.history.history[\"val_acc\"]\n",
    "\n",
    "\"\"\"Code Here\n",
    "將 tp/tn 從訓練完的模型中取出\n",
    "\"\"\"\n",
    "valid_tp = model.history.history['val_tp']\n",
    "valid_tn = model.history.history['val_tn']"
   ]
  },
  {
   "cell_type": "code",
   "execution_count": 11,
   "metadata": {},
   "outputs": [
    {
     "data": {
      "image/png": "[encoded data removed]",
      "text/plain": [
       "<Figure size 432x288 with 1 Axes>"
      ]
     },
     "metadata": {
      "needs_background": "light"
     },
     "output_type": "display_data"
    },
    {
     "data": {
      "image/png": "[encoded data removed]",
      "text/plain": [
       "<Figure size 432x288 with 1 Axes>"
      ]
     },
     "metadata": {
      "needs_background": "light"
     },
     "output_type": "display_data"
    },
    {
     "data": {
      "image/png": "[encoded data removed]",
      "text/plain": [
       "<Figure size 432x288 with 1 Axes>"
      ]
     },
     "metadata": {
      "needs_background": "light"
     },
     "output_type": "display_data"
    }
   ],
   "source": [
    "import matplotlib.pyplot as plt\n",
    "%matplotlib inline\n",
    "\n",
    "plt.plot(range(len(train_loss)), train_loss, label=\"train loss\")\n",
    "plt.plot(range(len(valid_loss)), valid_loss, label=\"valid loss\")\n",
    "plt.legend()\n",
    "plt.title(\"Loss\")\n",
    "plt.show()\n",
    "\n",
    "plt.plot(range(len(train_acc)), train_acc, label=\"train accuracy\")\n",
    "plt.plot(range(len(valid_acc)), valid_acc, label=\"valid accuracy\")\n",
    "plt.legend()\n",
    "plt.title(\"Accuracy\")\n",
    "plt.show()\n",
    "\n",
    "plt.plot(range(len(valid_tp)), valid_tp, label=\"valid tp\", color=\"navy\")\n",
    "plt.plot(range(len(valid_tn)), valid_tn, label=\"valid tn\", color=\"red\")\n",
    "plt.legend()\n",
    "plt.title(\"True positives and True Negatives\")\n",
    "plt.show()\n"
   ]
  }
 ],
 "metadata": {
  "kernelspec": {
   "display_name": "Python 3",
   "language": "python",
   "name": "python3"
  },
  "language_info": {
   "codemirror_mode": {
    "name": "ipython",
    "version": 3
   },
   "file_extension": ".py",
   "mimetype": "text/x-python",
   "name": "python",
   "nbconvert_exporter": "python",
   "pygments_lexer": "ipython3",
   "version": "3.7.3"
  }
 },
 "nbformat": 4,
 "nbformat_minor": 2
}
