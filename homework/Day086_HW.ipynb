{
 "cells": [
  {
   "cell_type": "markdown",
   "metadata": {},
   "source": [
    "## Work\n",
    "1. 試比較 save_best_only 與否的差異\n",
    "2. 請僅存入將 save_weights_only 設定為 True, 並嘗試 reset ipynb 並將模型與權重重新建回並預測 x_test"
   ]
  },
  {
   "cell_type": "markdown",
   "metadata": {},
   "source": [
    "## 參考資料\n",
    "* 模型儲存與載入：https://blog.gtwang.org/programming/keras-save-and-load-model-tutorial/\n",
    "\n",
    "## Note\n",
    "* "
   ]
  },
  {
   "cell_type": "code",
   "execution_count": 1,
   "metadata": {},
   "outputs": [
    {
     "name": "stderr",
     "output_type": "stream",
     "text": [
      "Using TensorFlow backend.\n"
     ]
    }
   ],
   "source": [
    "import os\n",
    "import keras\n",
    "\n",
    "# Disable GPU\n",
    "os.environ[\"CUDA_VISIBLE_DEVICES\"] = \"\""
   ]
  },
  {
   "cell_type": "code",
   "execution_count": 2,
   "metadata": {},
   "outputs": [],
   "source": [
    "train, test = keras.datasets.cifar10.load_data()"
   ]
  },
  {
   "cell_type": "code",
   "execution_count": 3,
   "metadata": {},
   "outputs": [],
   "source": [
    "## 資料前處理\n",
    "def preproc_x(x, flatten=True):\n",
    "    x = x / 255.\n",
    "    if flatten:\n",
    "        x = x.reshape((len(x), -1))\n",
    "    return x\n",
    "\n",
    "def preproc_y(y, num_classes=10):\n",
    "    if y.shape[-1] == 1:\n",
    "        y = keras.utils.to_categorical(y, num_classes)\n",
    "    return y    "
   ]
  },
  {
   "cell_type": "code",
   "execution_count": 4,
   "metadata": {},
   "outputs": [],
   "source": [
    "x_train, y_train = train\n",
    "x_test, y_test = test\n",
    "\n",
    "# Preproc the inputs\n",
    "x_train = preproc_x(x_train)\n",
    "x_test = preproc_x(x_test)\n",
    "\n",
    "# Preprc the outputs\n",
    "y_train = preproc_y(y_train)\n",
    "y_test = preproc_y(y_test)"
   ]
  },
  {
   "cell_type": "code",
   "execution_count": 5,
   "metadata": {},
   "outputs": [],
   "source": [
    "from keras.layers import BatchNormalization\n",
    "\n",
    "\"\"\"\n",
    "建立神經網路，並加入 BN layer\n",
    "\"\"\"\n",
    "def build_mlp(input_shape, output_units=10, num_neurons=[512, 256, 128]):\n",
    "    input_layer = keras.layers.Input(input_shape)\n",
    "    \n",
    "    for i, n_units in enumerate(num_neurons):\n",
    "        if i == 0:\n",
    "            x = keras.layers.Dense(units=n_units, \n",
    "                                   activation=\"relu\", \n",
    "                                   name=\"hidden_layer\"+str(i+1))(input_layer)\n",
    "            x = BatchNormalization()(x)\n",
    "        else:\n",
    "            x = keras.layers.Dense(units=n_units, \n",
    "                                   activation=\"relu\", \n",
    "                                   name=\"hidden_layer\"+str(i+1))(x)\n",
    "            x = BatchNormalization()(x)\n",
    "    \n",
    "    out = keras.layers.Dense(units=output_units, activation=\"softmax\", name=\"output\")(x)\n",
    "    \n",
    "    model = keras.models.Model(inputs=[input_layer], outputs=[out])\n",
    "    return model"
   ]
  },
  {
   "cell_type": "code",
   "execution_count": 6,
   "metadata": {},
   "outputs": [],
   "source": [
    "## 超參數設定\n",
    "LEARNING_RATE = 1e-3\n",
    "EPOCHS = 50\n",
    "BATCH_SIZE = 1024\n",
    "MOMENTUM = 0.95"
   ]
  },
  {
   "cell_type": "markdown",
   "metadata": {},
   "source": [
    "## 1. 比較 save_best_only 與否的差異\n",
    "### 1.1 save_best_only = True"
   ]
  },
  {
   "cell_type": "code",
   "execution_count": 7,
   "metadata": {},
   "outputs": [],
   "source": [
    "# 載入 Callbacks\n",
    "\"\"\"\n",
    "# 載入 Callbacks, 並將監控目標設為 validation loss, 且只存最佳參數時的模型\n",
    "\"\"\"\n",
    "from keras.callbacks import ModelCheckpoint\n",
    "\n",
    "model_ckpt = ModelCheckpoint(filepath=\"./tmp.h5\", \n",
    "                             monitor=\"val_loss\", \n",
    "                             save_best_only=True)"
   ]
  },
  {
   "cell_type": "code",
   "execution_count": 8,
   "metadata": {},
   "outputs": [
    {
     "name": "stderr",
     "output_type": "stream",
     "text": [
      "WARNING: Logging before flag parsing goes to stderr.\n",
      "W0805 23:58:20.442601 40656 deprecation_wrapper.py:119] From E:\\Users\\moon\\Anaconda3\\lib\\site-packages\\keras\\backend\\tensorflow_backend.py:74: The name tf.get_default_graph is deprecated. Please use tf.compat.v1.get_default_graph instead.\n",
      "\n",
      "W0805 23:58:20.463602 40656 deprecation_wrapper.py:119] From E:\\Users\\moon\\Anaconda3\\lib\\site-packages\\keras\\backend\\tensorflow_backend.py:517: The name tf.placeholder is deprecated. Please use tf.compat.v1.placeholder instead.\n",
      "\n",
      "W0805 23:58:20.465602 40656 deprecation_wrapper.py:119] From E:\\Users\\moon\\Anaconda3\\lib\\site-packages\\keras\\backend\\tensorflow_backend.py:4138: The name tf.random_uniform is deprecated. Please use tf.random.uniform instead.\n",
      "\n",
      "W0805 23:58:20.540606 40656 deprecation_wrapper.py:119] From E:\\Users\\moon\\Anaconda3\\lib\\site-packages\\keras\\backend\\tensorflow_backend.py:133: The name tf.placeholder_with_default is deprecated. Please use tf.compat.v1.placeholder_with_default instead.\n",
      "\n",
      "W0805 23:58:20.799621 40656 deprecation_wrapper.py:119] From E:\\Users\\moon\\Anaconda3\\lib\\site-packages\\keras\\optimizers.py:790: The name tf.train.Optimizer is deprecated. Please use tf.compat.v1.train.Optimizer instead.\n",
      "\n",
      "W0805 23:58:20.806622 40656 deprecation_wrapper.py:119] From E:\\Users\\moon\\Anaconda3\\lib\\site-packages\\keras\\backend\\tensorflow_backend.py:3295: The name tf.log is deprecated. Please use tf.math.log instead.\n",
      "\n",
      "W0805 23:58:20.897627 40656 deprecation.py:323] From E:\\Users\\moon\\Anaconda3\\lib\\site-packages\\tensorflow\\python\\ops\\math_grad.py:1250: add_dispatch_support.<locals>.wrapper (from tensorflow.python.ops.array_ops) is deprecated and will be removed in a future version.\n",
      "Instructions for updating:\n",
      "Use tf.where in 2.0, which has the same broadcast rule as np.where\n"
     ]
    },
    {
     "name": "stdout",
     "output_type": "stream",
     "text": [
      "_________________________________________________________________\n",
      "Layer (type)                 Output Shape              Param #   \n",
      "=================================================================\n",
      "input_1 (InputLayer)         (None, 3072)              0         \n",
      "_________________________________________________________________\n",
      "hidden_layer1 (Dense)        (None, 512)               1573376   \n",
      "_________________________________________________________________\n",
      "batch_normalization_1 (Batch (None, 512)               2048      \n",
      "_________________________________________________________________\n",
      "hidden_layer2 (Dense)        (None, 256)               131328    \n",
      "_________________________________________________________________\n",
      "batch_normalization_2 (Batch (None, 256)               1024      \n",
      "_________________________________________________________________\n",
      "hidden_layer3 (Dense)        (None, 128)               32896     \n",
      "_________________________________________________________________\n",
      "batch_normalization_3 (Batch (None, 128)               512       \n",
      "_________________________________________________________________\n",
      "output (Dense)               (None, 10)                1290      \n",
      "=================================================================\n",
      "Total params: 1,742,474\n",
      "Trainable params: 1,740,682\n",
      "Non-trainable params: 1,792\n",
      "_________________________________________________________________\n",
      "Train on 50000 samples, validate on 10000 samples\n",
      "Epoch 1/50\n",
      "50000/50000 [==============================] - 7s 145us/step - loss: 2.1891 - acc: 0.2695 - val_loss: 2.0403 - val_acc: 0.3255\n",
      "Epoch 2/50\n",
      "50000/50000 [==============================] - 7s 133us/step - loss: 1.7355 - acc: 0.3940 - val_loss: 1.8212 - val_acc: 0.3694\n",
      "Epoch 3/50\n",
      "50000/50000 [==============================] - 7s 131us/step - loss: 1.6153 - acc: 0.4336 - val_loss: 1.6898 - val_acc: 0.4073\n",
      "Epoch 4/50\n",
      "50000/50000 [==============================] - 7s 133us/step - loss: 1.5429 - acc: 0.4596 - val_loss: 1.6301 - val_acc: 0.4287\n",
      "Epoch 5/50\n",
      "50000/50000 [==============================] - 7s 132us/step - loss: 1.4874 - acc: 0.4781 - val_loss: 1.5860 - val_acc: 0.4484\n",
      "Epoch 6/50\n",
      "50000/50000 [==============================] - 7s 136us/step - loss: 1.4455 - acc: 0.4941 - val_loss: 1.5578 - val_acc: 0.4531\n",
      "Epoch 7/50\n",
      "50000/50000 [==============================] - 7s 133us/step - loss: 1.4046 - acc: 0.5074 - val_loss: 1.5395 - val_acc: 0.4612\n",
      "Epoch 8/50\n",
      "50000/50000 [==============================] - 7s 131us/step - loss: 1.3695 - acc: 0.5212 - val_loss: 1.5281 - val_acc: 0.4648\n",
      "Epoch 9/50\n",
      "50000/50000 [==============================] - 7s 134us/step - loss: 1.3378 - acc: 0.5318 - val_loss: 1.5273 - val_acc: 0.4658\n",
      "Epoch 10/50\n",
      "50000/50000 [==============================] - 7s 141us/step - loss: 1.3082 - acc: 0.5444 - val_loss: 1.4992 - val_acc: 0.4747\n",
      "Epoch 11/50\n",
      "50000/50000 [==============================] - 7s 139us/step - loss: 1.2814 - acc: 0.5545 - val_loss: 1.4855 - val_acc: 0.4805\n",
      "Epoch 12/50\n",
      "50000/50000 [==============================] - 7s 144us/step - loss: 1.2543 - acc: 0.5644 - val_loss: 1.4799 - val_acc: 0.4788\n",
      "Epoch 13/50\n",
      "50000/50000 [==============================] - 7s 130us/step - loss: 1.2294 - acc: 0.5734 - val_loss: 1.4688 - val_acc: 0.4841\n",
      "Epoch 14/50\n",
      "50000/50000 [==============================] - 6s 129us/step - loss: 1.2057 - acc: 0.5836 - val_loss: 1.4792 - val_acc: 0.4818\n",
      "Epoch 15/50\n",
      "50000/50000 [==============================] - 7s 132us/step - loss: 1.1803 - acc: 0.5929 - val_loss: 1.4602 - val_acc: 0.4865\n",
      "Epoch 16/50\n",
      "50000/50000 [==============================] - 6s 130us/step - loss: 1.1592 - acc: 0.6005 - val_loss: 1.4690 - val_acc: 0.4823\n",
      "Epoch 17/50\n",
      "50000/50000 [==============================] - 6s 129us/step - loss: 1.1346 - acc: 0.6103 - val_loss: 1.4591 - val_acc: 0.4898\n",
      "Epoch 18/50\n",
      "50000/50000 [==============================] - 6s 129us/step - loss: 1.1117 - acc: 0.6175 - val_loss: 1.4573 - val_acc: 0.4909\n",
      "Epoch 19/50\n",
      "50000/50000 [==============================] - 6s 129us/step - loss: 1.0920 - acc: 0.6258 - val_loss: 1.4737 - val_acc: 0.4859\n",
      "Epoch 20/50\n",
      "50000/50000 [==============================] - 7s 132us/step - loss: 1.0715 - acc: 0.6334 - val_loss: 1.4519 - val_acc: 0.4949\n",
      "Epoch 21/50\n",
      "50000/50000 [==============================] - 7s 134us/step - loss: 1.0495 - acc: 0.6430 - val_loss: 1.4537 - val_acc: 0.4940\n",
      "Epoch 22/50\n",
      "50000/50000 [==============================] - 7s 131us/step - loss: 1.0278 - acc: 0.6511 - val_loss: 1.4585 - val_acc: 0.4963\n",
      "Epoch 23/50\n",
      "50000/50000 [==============================] - 7s 130us/step - loss: 1.0072 - acc: 0.6595 - val_loss: 1.4497 - val_acc: 0.4985\n",
      "Epoch 24/50\n",
      "50000/50000 [==============================] - 6s 130us/step - loss: 0.9857 - acc: 0.6693 - val_loss: 1.4592 - val_acc: 0.4924\n",
      "Epoch 25/50\n",
      "50000/50000 [==============================] - 6s 130us/step - loss: 0.9665 - acc: 0.6753 - val_loss: 1.4613 - val_acc: 0.4980\n",
      "Epoch 26/50\n",
      "50000/50000 [==============================] - 6s 130us/step - loss: 0.9452 - acc: 0.6826 - val_loss: 1.4621 - val_acc: 0.4955\n",
      "Epoch 27/50\n",
      "50000/50000 [==============================] - 7s 130us/step - loss: 0.9245 - acc: 0.6928 - val_loss: 1.4814 - val_acc: 0.4888\n",
      "Epoch 28/50\n",
      "50000/50000 [==============================] - 6s 130us/step - loss: 0.9047 - acc: 0.6998 - val_loss: 1.4692 - val_acc: 0.4937\n",
      "Epoch 29/50\n",
      "50000/50000 [==============================] - 6s 130us/step - loss: 0.8858 - acc: 0.7069 - val_loss: 1.4734 - val_acc: 0.4995\n",
      "Epoch 30/50\n",
      "50000/50000 [==============================] - 6s 129us/step - loss: 0.8656 - acc: 0.7138 - val_loss: 1.4750 - val_acc: 0.4948\n",
      "Epoch 31/50\n",
      "50000/50000 [==============================] - 6s 129us/step - loss: 0.8495 - acc: 0.7194 - val_loss: 1.4891 - val_acc: 0.4952\n",
      "Epoch 32/50\n",
      "50000/50000 [==============================] - 6s 129us/step - loss: 0.8265 - acc: 0.7307 - val_loss: 1.4916 - val_acc: 0.4945\n",
      "Epoch 33/50\n",
      "50000/50000 [==============================] - 6s 129us/step - loss: 0.8091 - acc: 0.7373 - val_loss: 1.5121 - val_acc: 0.4866\n",
      "Epoch 34/50\n",
      "50000/50000 [==============================] - 6s 129us/step - loss: 0.7900 - acc: 0.7431 - val_loss: 1.5080 - val_acc: 0.4939\n",
      "Epoch 35/50\n",
      "50000/50000 [==============================] - 6s 129us/step - loss: 0.7711 - acc: 0.7502 - val_loss: 1.5093 - val_acc: 0.4925\n",
      "Epoch 36/50\n",
      "50000/50000 [==============================] - 6s 129us/step - loss: 0.7521 - acc: 0.7583 - val_loss: 1.5233 - val_acc: 0.4952\n",
      "Epoch 37/50\n",
      "50000/50000 [==============================] - 6s 129us/step - loss: 0.7338 - acc: 0.7658 - val_loss: 1.5287 - val_acc: 0.4948\n",
      "Epoch 38/50\n",
      "50000/50000 [==============================] - 6s 129us/step - loss: 0.7162 - acc: 0.7738 - val_loss: 1.5449 - val_acc: 0.4935\n",
      "Epoch 39/50\n",
      "50000/50000 [==============================] - 6s 129us/step - loss: 0.6978 - acc: 0.7805 - val_loss: 1.5477 - val_acc: 0.4961\n",
      "Epoch 40/50\n",
      "50000/50000 [==============================] - 6s 129us/step - loss: 0.6773 - acc: 0.7881 - val_loss: 1.5660 - val_acc: 0.4934\n",
      "Epoch 41/50\n",
      "50000/50000 [==============================] - 6s 129us/step - loss: 0.6605 - acc: 0.7951 - val_loss: 1.5715 - val_acc: 0.4884\n",
      "Epoch 42/50\n",
      "50000/50000 [==============================] - 7s 131us/step - loss: 0.6432 - acc: 0.8010 - val_loss: 1.5730 - val_acc: 0.4909\n",
      "Epoch 43/50\n",
      "50000/50000 [==============================] - 7s 133us/step - loss: 0.6250 - acc: 0.8116 - val_loss: 1.5902 - val_acc: 0.4950\n",
      "Epoch 44/50\n",
      "50000/50000 [==============================] - 7s 134us/step - loss: 0.6074 - acc: 0.8155 - val_loss: 1.5953 - val_acc: 0.4930\n",
      "Epoch 45/50\n",
      "50000/50000 [==============================] - 7s 133us/step - loss: 0.5906 - acc: 0.8243 - val_loss: 1.6018 - val_acc: 0.4906\n",
      "Epoch 46/50\n",
      "50000/50000 [==============================] - 6s 130us/step - loss: 0.5727 - acc: 0.8321 - val_loss: 1.6007 - val_acc: 0.4963\n",
      "Epoch 47/50\n",
      "50000/50000 [==============================] - 6s 129us/step - loss: 0.5568 - acc: 0.8362 - val_loss: 1.6473 - val_acc: 0.4877\n",
      "Epoch 48/50\n",
      "50000/50000 [==============================] - 7s 131us/step - loss: 0.5418 - acc: 0.8425 - val_loss: 1.6400 - val_acc: 0.4935\n",
      "Epoch 49/50\n"
     ]
    },
    {
     "name": "stdout",
     "output_type": "stream",
     "text": [
      "50000/50000 [==============================] - 6s 129us/step - loss: 0.5249 - acc: 0.8491 - val_loss: 1.6541 - val_acc: 0.4901\n",
      "Epoch 50/50\n",
      "50000/50000 [==============================] - 6s 129us/step - loss: 0.5074 - acc: 0.8565 - val_loss: 1.6912 - val_acc: 0.4837\n",
      "10000/10000 [==============================] - 1s 111us/step\n"
     ]
    }
   ],
   "source": [
    "model = build_mlp(input_shape=x_train.shape[1:])\n",
    "model.summary()\n",
    "optimizer = keras.optimizers.SGD(lr=LEARNING_RATE, nesterov=True, momentum=MOMENTUM)\n",
    "model.compile(loss=\"categorical_crossentropy\", metrics=[\"accuracy\"], optimizer=optimizer)\n",
    "\n",
    "model.fit(x_train, y_train, \n",
    "          epochs=EPOCHS, \n",
    "          batch_size=BATCH_SIZE, \n",
    "          validation_data=(x_test, y_test), \n",
    "          shuffle=True,\n",
    "          callbacks=[model_ckpt]\n",
    "         )\n",
    "\n",
    "# Collect results\n",
    "train_loss = model.history.history[\"loss\"]\n",
    "valid_loss = model.history.history[\"val_loss\"]\n",
    "train_acc = model.history.history[\"acc\"]\n",
    "valid_acc = model.history.history[\"val_acc\"]\n",
    "\n",
    "# Load back\n",
    "model = keras.models.load_model(\"./tmp.h5\")\n",
    "loss_loadback, acc_loadback = model.evaluate(x_test, y_test)"
   ]
  },
  {
   "cell_type": "code",
   "execution_count": 9,
   "metadata": {
    "scrolled": true
   },
   "outputs": [
    {
     "data": {
      "image/png": "[encoded data removed]",
      "text/plain": [
       "<Figure size 432x288 with 1 Axes>"
      ]
     },
     "metadata": {
      "needs_background": "light"
     },
     "output_type": "display_data"
    },
    {
     "data": {
      "image/png": "[encoded data removed]",
      "text/plain": [
       "<Figure size 432x288 with 1 Axes>"
      ]
     },
     "metadata": {
      "needs_background": "light"
     },
     "output_type": "display_data"
    }
   ],
   "source": [
    "import matplotlib.pyplot as plt\n",
    "%matplotlib inline\n",
    "\n",
    "plt.plot(range(len(train_loss)), train_loss, label=\"train loss\")\n",
    "plt.plot(range(len(valid_loss)), valid_loss, label=\"valid loss\")\n",
    "plt.hlines(y=loss_loadback, xmin=0, xmax=len(train_loss), colors='r', linestyles='--')\n",
    "plt.legend()\n",
    "plt.title(\"Loss\")\n",
    "plt.show()\n",
    "\n",
    "plt.plot(range(len(train_acc)), train_acc, label=\"train accuracy\")\n",
    "plt.plot(range(len(valid_acc)), valid_acc, label=\"valid accuracy\")\n",
    "plt.hlines(y=acc_loadback, xmin=0, xmax=len(train_loss), colors='r', linestyles='--')\n",
    "plt.legend()\n",
    "plt.title(\"Accuracy\")\n",
    "plt.show()"
   ]
  },
  {
   "cell_type": "code",
   "execution_count": 10,
   "metadata": {},
   "outputs": [],
   "source": [
    "# 儲存模型\n",
    "# 將模型儲存至 HDF5 檔案中\n",
    "model.save('my_model.h5')\n",
    "\n",
    "# 將參數儲存至 HDF5 檔案（不含模型）\n",
    "model.save_weights('my_model_weights.h5')"
   ]
  },
  {
   "cell_type": "markdown",
   "metadata": {},
   "source": [
    "# 1. 比較 save_best_only 與否的差異\n",
    "### 1.2 save_best_only = False"
   ]
  },
  {
   "cell_type": "code",
   "execution_count": 11,
   "metadata": {},
   "outputs": [],
   "source": [
    "# 載入 Callbacks\n",
    "\"\"\"\n",
    "# 載入 Callbacks, 並將監控目標設為 validation loss, 且只存最佳參數時的模型\n",
    "\"\"\"\n",
    "from keras.callbacks import ModelCheckpoint\n",
    "\n",
    "model_ckpt2 = ModelCheckpoint(filepath=\"./tmp2.h5\", \n",
    "                             monitor=\"val_loss\", \n",
    "                             save_best_only=False)"
   ]
  },
  {
   "cell_type": "code",
   "execution_count": 12,
   "metadata": {},
   "outputs": [
    {
     "name": "stdout",
     "output_type": "stream",
     "text": [
      "_________________________________________________________________\n",
      "Layer (type)                 Output Shape              Param #   \n",
      "=================================================================\n",
      "input_2 (InputLayer)         (None, 3072)              0         \n",
      "_________________________________________________________________\n",
      "hidden_layer1 (Dense)        (None, 512)               1573376   \n",
      "_________________________________________________________________\n",
      "batch_normalization_4 (Batch (None, 512)               2048      \n",
      "_________________________________________________________________\n",
      "hidden_layer2 (Dense)        (None, 256)               131328    \n",
      "_________________________________________________________________\n",
      "batch_normalization_5 (Batch (None, 256)               1024      \n",
      "_________________________________________________________________\n",
      "hidden_layer3 (Dense)        (None, 128)               32896     \n",
      "_________________________________________________________________\n",
      "batch_normalization_6 (Batch (None, 128)               512       \n",
      "_________________________________________________________________\n",
      "output (Dense)               (None, 10)                1290      \n",
      "=================================================================\n",
      "Total params: 1,742,474\n",
      "Trainable params: 1,740,682\n",
      "Non-trainable params: 1,792\n",
      "_________________________________________________________________\n",
      "Train on 50000 samples, validate on 10000 samples\n",
      "Epoch 1/50\n",
      "50000/50000 [==============================] - 7s 146us/step - loss: 2.2277 - acc: 0.2640 - val_loss: 2.0575 - val_acc: 0.3227\n",
      "Epoch 2/50\n",
      "50000/50000 [==============================] - 6s 130us/step - loss: 1.7372 - acc: 0.3931 - val_loss: 1.8270 - val_acc: 0.3816\n",
      "Epoch 3/50\n",
      "50000/50000 [==============================] - 6s 130us/step - loss: 1.6138 - acc: 0.4312 - val_loss: 1.6859 - val_acc: 0.4137\n",
      "Epoch 4/50\n",
      "50000/50000 [==============================] - 6s 129us/step - loss: 1.5407 - acc: 0.4594 - val_loss: 1.6173 - val_acc: 0.4315\n",
      "Epoch 5/50\n",
      "50000/50000 [==============================] - 6s 129us/step - loss: 1.4853 - acc: 0.4790 - val_loss: 1.5903 - val_acc: 0.4422\n",
      "Epoch 6/50\n",
      "50000/50000 [==============================] - 6s 129us/step - loss: 1.4415 - acc: 0.4940 - val_loss: 1.5581 - val_acc: 0.4531\n",
      "Epoch 7/50\n",
      "50000/50000 [==============================] - 6s 130us/step - loss: 1.4008 - acc: 0.5099 - val_loss: 1.5352 - val_acc: 0.4628\n",
      "Epoch 8/50\n",
      "50000/50000 [==============================] - 6s 129us/step - loss: 1.3688 - acc: 0.5198 - val_loss: 1.5213 - val_acc: 0.4637\n",
      "Epoch 9/50\n",
      "50000/50000 [==============================] - 6s 129us/step - loss: 1.3346 - acc: 0.5343 - val_loss: 1.5173 - val_acc: 0.4652\n",
      "Epoch 10/50\n",
      "50000/50000 [==============================] - 6s 129us/step - loss: 1.3070 - acc: 0.5431 - val_loss: 1.5088 - val_acc: 0.4703\n",
      "Epoch 11/50\n",
      "50000/50000 [==============================] - 6s 129us/step - loss: 1.2801 - acc: 0.5550 - val_loss: 1.4947 - val_acc: 0.4731\n",
      "Epoch 12/50\n",
      "50000/50000 [==============================] - 6s 129us/step - loss: 1.2540 - acc: 0.5655 - val_loss: 1.4886 - val_acc: 0.4775\n",
      "Epoch 13/50\n",
      "50000/50000 [==============================] - 6s 130us/step - loss: 1.2288 - acc: 0.5739 - val_loss: 1.4685 - val_acc: 0.4784\n",
      "Epoch 14/50\n",
      "50000/50000 [==============================] - 6s 129us/step - loss: 1.2054 - acc: 0.5835 - val_loss: 1.4683 - val_acc: 0.4789\n",
      "Epoch 15/50\n",
      "50000/50000 [==============================] - 6s 129us/step - loss: 1.1807 - acc: 0.5945 - val_loss: 1.4667 - val_acc: 0.4829\n",
      "Epoch 16/50\n",
      "50000/50000 [==============================] - 6s 129us/step - loss: 1.1569 - acc: 0.6029 - val_loss: 1.4644 - val_acc: 0.4878\n",
      "Epoch 17/50\n",
      "50000/50000 [==============================] - 6s 129us/step - loss: 1.1357 - acc: 0.6099 - val_loss: 1.4611 - val_acc: 0.4846\n",
      "Epoch 18/50\n",
      "50000/50000 [==============================] - 6s 129us/step - loss: 1.1135 - acc: 0.6176 - val_loss: 1.4498 - val_acc: 0.4870\n",
      "Epoch 19/50\n",
      "50000/50000 [==============================] - 6s 129us/step - loss: 1.0912 - acc: 0.6266 - val_loss: 1.4523 - val_acc: 0.4862\n",
      "Epoch 20/50\n",
      "50000/50000 [==============================] - 6s 129us/step - loss: 1.0697 - acc: 0.6366 - val_loss: 1.4651 - val_acc: 0.4777\n",
      "Epoch 21/50\n",
      "50000/50000 [==============================] - 6s 129us/step - loss: 1.0502 - acc: 0.6419 - val_loss: 1.4582 - val_acc: 0.4874\n",
      "Epoch 22/50\n",
      "50000/50000 [==============================] - 6s 129us/step - loss: 1.0290 - acc: 0.6528 - val_loss: 1.4513 - val_acc: 0.4869\n",
      "Epoch 23/50\n",
      "50000/50000 [==============================] - 6s 129us/step - loss: 1.0091 - acc: 0.6604 - val_loss: 1.4571 - val_acc: 0.4898\n",
      "Epoch 24/50\n",
      "50000/50000 [==============================] - 6s 129us/step - loss: 0.9863 - acc: 0.6682 - val_loss: 1.4645 - val_acc: 0.4880\n",
      "Epoch 25/50\n",
      "50000/50000 [==============================] - 6s 129us/step - loss: 0.9674 - acc: 0.6748 - val_loss: 1.4493 - val_acc: 0.4928\n",
      "Epoch 26/50\n",
      "50000/50000 [==============================] - 6s 129us/step - loss: 0.9474 - acc: 0.6838 - val_loss: 1.4515 - val_acc: 0.4914\n",
      "Epoch 27/50\n",
      "50000/50000 [==============================] - 6s 129us/step - loss: 0.9287 - acc: 0.6900 - val_loss: 1.4739 - val_acc: 0.4914\n",
      "Epoch 28/50\n",
      "50000/50000 [==============================] - 6s 129us/step - loss: 0.9092 - acc: 0.6969 - val_loss: 1.4894 - val_acc: 0.4898\n",
      "Epoch 29/50\n",
      "50000/50000 [==============================] - 6s 130us/step - loss: 0.8885 - acc: 0.7078 - val_loss: 1.4803 - val_acc: 0.4923\n",
      "Epoch 30/50\n",
      "50000/50000 [==============================] - 6s 130us/step - loss: 0.8703 - acc: 0.7121 - val_loss: 1.4757 - val_acc: 0.4969\n",
      "Epoch 31/50\n",
      "50000/50000 [==============================] - 6s 129us/step - loss: 0.8505 - acc: 0.7216 - val_loss: 1.4913 - val_acc: 0.4881\n",
      "Epoch 32/50\n",
      "50000/50000 [==============================] - 6s 130us/step - loss: 0.8336 - acc: 0.7284 - val_loss: 1.4753 - val_acc: 0.4959\n",
      "Epoch 33/50\n",
      "50000/50000 [==============================] - 6s 129us/step - loss: 0.8118 - acc: 0.7384 - val_loss: 1.5006 - val_acc: 0.4918\n",
      "Epoch 34/50\n",
      "50000/50000 [==============================] - 6s 129us/step - loss: 0.7950 - acc: 0.7419 - val_loss: 1.4894 - val_acc: 0.4956\n",
      "Epoch 35/50\n",
      "50000/50000 [==============================] - 6s 130us/step - loss: 0.7764 - acc: 0.7494 - val_loss: 1.5010 - val_acc: 0.4976\n",
      "Epoch 36/50\n",
      "50000/50000 [==============================] - 7s 130us/step - loss: 0.7575 - acc: 0.7602 - val_loss: 1.5052 - val_acc: 0.4962\n",
      "Epoch 37/50\n",
      "50000/50000 [==============================] - 6s 130us/step - loss: 0.7386 - acc: 0.7655 - val_loss: 1.5189 - val_acc: 0.4941\n",
      "Epoch 38/50\n",
      "50000/50000 [==============================] - 7s 132us/step - loss: 0.7207 - acc: 0.7733 - val_loss: 1.5297 - val_acc: 0.4963\n",
      "Epoch 39/50\n",
      "50000/50000 [==============================] - 6s 129us/step - loss: 0.7017 - acc: 0.7794 - val_loss: 1.5382 - val_acc: 0.4897\n",
      "Epoch 40/50\n",
      "50000/50000 [==============================] - 6s 130us/step - loss: 0.6850 - acc: 0.7875 - val_loss: 1.5506 - val_acc: 0.4918\n",
      "Epoch 41/50\n",
      "50000/50000 [==============================] - 6s 129us/step - loss: 0.6645 - acc: 0.7965 - val_loss: 1.5709 - val_acc: 0.4912\n",
      "Epoch 42/50\n",
      "50000/50000 [==============================] - 6s 129us/step - loss: 0.6474 - acc: 0.8048 - val_loss: 1.5855 - val_acc: 0.4812\n",
      "Epoch 43/50\n",
      "50000/50000 [==============================] - 6s 129us/step - loss: 0.6313 - acc: 0.8097 - val_loss: 1.5771 - val_acc: 0.4930\n",
      "Epoch 44/50\n",
      "50000/50000 [==============================] - 6s 129us/step - loss: 0.6135 - acc: 0.8157 - val_loss: 1.5956 - val_acc: 0.4898\n",
      "Epoch 45/50\n",
      "50000/50000 [==============================] - 6s 129us/step - loss: 0.5960 - acc: 0.8241 - val_loss: 1.6023 - val_acc: 0.4924\n",
      "Epoch 46/50\n",
      "50000/50000 [==============================] - 6s 129us/step - loss: 0.5794 - acc: 0.8311 - val_loss: 1.6113 - val_acc: 0.4923\n",
      "Epoch 47/50\n",
      "50000/50000 [==============================] - 7s 131us/step - loss: 0.5614 - acc: 0.8357 - val_loss: 1.6213 - val_acc: 0.4928\n",
      "Epoch 48/50\n",
      "50000/50000 [==============================] - 7s 145us/step - loss: 0.5460 - acc: 0.8425 - val_loss: 1.6413 - val_acc: 0.4865\n",
      "Epoch 49/50\n"
     ]
    },
    {
     "name": "stdout",
     "output_type": "stream",
     "text": [
      "50000/50000 [==============================] - 8s 164us/step - loss: 0.5287 - acc: 0.8512 - val_loss: 1.6489 - val_acc: 0.4865\n",
      "Epoch 50/50\n",
      "50000/50000 [==============================] - 8s 157us/step - loss: 0.5126 - acc: 0.8555 - val_loss: 1.6524 - val_acc: 0.4876\n",
      "10000/10000 [==============================] - 2s 155us/step\n"
     ]
    }
   ],
   "source": [
    "model = build_mlp(input_shape=x_train.shape[1:])\n",
    "model.summary()\n",
    "optimizer = keras.optimizers.SGD(lr=LEARNING_RATE, nesterov=True, momentum=MOMENTUM)\n",
    "model.compile(loss=\"categorical_crossentropy\", metrics=[\"accuracy\"], optimizer=optimizer)\n",
    "\n",
    "model.fit(x_train, y_train, \n",
    "          epochs=EPOCHS, \n",
    "          batch_size=BATCH_SIZE, \n",
    "          validation_data=(x_test, y_test), \n",
    "          shuffle=True,\n",
    "          callbacks=[model_ckpt2]\n",
    "         )\n",
    "\n",
    "# Collect results\n",
    "train_loss = model.history.history[\"loss\"]\n",
    "valid_loss = model.history.history[\"val_loss\"]\n",
    "train_acc = model.history.history[\"acc\"]\n",
    "valid_acc = model.history.history[\"val_acc\"]\n",
    "\n",
    "# Load back\n",
    "model = keras.models.load_model(\"./tmp2.h5\")\n",
    "loss_loadback, acc_loadback = model.evaluate(x_test, y_test)"
   ]
  },
  {
   "cell_type": "code",
   "execution_count": 13,
   "metadata": {},
   "outputs": [
    {
     "data": {
      "image/png": "[encoded data removed]",
      "text/plain": [
       "<Figure size 432x288 with 1 Axes>"
      ]
     },
     "metadata": {
      "needs_background": "light"
     },
     "output_type": "display_data"
    },
    {
     "data": {
      "image/png": "[encoded data removed]",
      "text/plain": [
       "<Figure size 432x288 with 1 Axes>"
      ]
     },
     "metadata": {
      "needs_background": "light"
     },
     "output_type": "display_data"
    }
   ],
   "source": [
    "import matplotlib.pyplot as plt\n",
    "%matplotlib inline\n",
    "\n",
    "plt.plot(range(len(train_loss)), train_loss, label=\"train loss\")\n",
    "plt.plot(range(len(valid_loss)), valid_loss, label=\"valid loss\")\n",
    "plt.hlines(y=loss_loadback, xmin=0, xmax=len(train_loss), colors='r', linestyles='--')\n",
    "plt.legend()\n",
    "plt.title(\"Loss\")\n",
    "plt.show()\n",
    "\n",
    "plt.plot(range(len(train_acc)), train_acc, label=\"train accuracy\")\n",
    "plt.plot(range(len(valid_acc)), valid_acc, label=\"valid accuracy\")\n",
    "plt.hlines(y=acc_loadback, xmin=0, xmax=len(train_loss), colors='r', linestyles='--')\n",
    "plt.legend()\n",
    "plt.title(\"Accuracy\")\n",
    "plt.show()"
   ]
  },
  {
   "cell_type": "markdown",
   "metadata": {},
   "source": [
    "## 2. 僅存入將 save_weights_only 設定為 True, 並嘗試 reset ipynb 並將模型與權重重新建回並預測 x_test"
   ]
  },
  {
   "cell_type": "code",
   "execution_count": 5,
   "metadata": {},
   "outputs": [
    {
     "name": "stderr",
     "output_type": "stream",
     "text": [
      "WARNING: Logging before flag parsing goes to stderr.\n",
      "W0806 00:12:29.347156 33904 deprecation_wrapper.py:119] From E:\\Users\\moon\\Anaconda3\\lib\\site-packages\\keras\\backend\\tensorflow_backend.py:517: The name tf.placeholder is deprecated. Please use tf.compat.v1.placeholder instead.\n",
      "\n",
      "W0806 00:12:29.374157 33904 deprecation_wrapper.py:119] From E:\\Users\\moon\\Anaconda3\\lib\\site-packages\\keras\\backend\\tensorflow_backend.py:4138: The name tf.random_uniform is deprecated. Please use tf.random.uniform instead.\n",
      "\n",
      "W0806 00:12:29.450161 33904 deprecation_wrapper.py:119] From E:\\Users\\moon\\Anaconda3\\lib\\site-packages\\keras\\backend\\tensorflow_backend.py:131: The name tf.get_default_graph is deprecated. Please use tf.compat.v1.get_default_graph instead.\n",
      "\n",
      "W0806 00:12:29.451161 33904 deprecation_wrapper.py:119] From E:\\Users\\moon\\Anaconda3\\lib\\site-packages\\keras\\backend\\tensorflow_backend.py:133: The name tf.placeholder_with_default is deprecated. Please use tf.compat.v1.placeholder_with_default instead.\n",
      "\n",
      "W0806 00:12:29.754179 33904 deprecation_wrapper.py:119] From E:\\Users\\moon\\Anaconda3\\lib\\site-packages\\keras\\backend\\tensorflow_backend.py:174: The name tf.get_default_session is deprecated. Please use tf.compat.v1.get_default_session instead.\n",
      "\n",
      "W0806 00:12:29.897187 33904 deprecation_wrapper.py:119] From E:\\Users\\moon\\Anaconda3\\lib\\site-packages\\keras\\optimizers.py:790: The name tf.train.Optimizer is deprecated. Please use tf.compat.v1.train.Optimizer instead.\n",
      "\n",
      "W0806 00:12:29.995193 33904 deprecation.py:323] From E:\\Users\\moon\\Anaconda3\\lib\\site-packages\\tensorflow\\python\\ops\\math_grad.py:1250: add_dispatch_support.<locals>.wrapper (from tensorflow.python.ops.array_ops) is deprecated and will be removed in a future version.\n",
      "Instructions for updating:\n",
      "Use tf.where in 2.0, which has the same broadcast rule as np.where\n"
     ]
    }
   ],
   "source": [
    "# 從 HDF5 檔案中載入模型\n",
    "from keras.models import load_model\n",
    "\n",
    "new_model = keras.models.load_model('my_model.h5')"
   ]
  },
  {
   "cell_type": "code",
   "execution_count": 6,
   "metadata": {},
   "outputs": [
    {
     "data": {
      "text/plain": [
       "[1.4496560659408568, 0.4985]"
      ]
     },
     "execution_count": 6,
     "metadata": {},
     "output_type": "execute_result"
    }
   ],
   "source": [
    "# 驗證模型\n",
    "# model.evaluate() return loss and accuracy\n",
    "\n",
    "score = new_model.evaluate(x_test, y_test, verbose=0)\n",
    "score "
   ]
  }
 ],
 "metadata": {
  "kernelspec": {
   "display_name": "Python 3",
   "language": "python",
   "name": "python3"
  },
  "language_info": {
   "codemirror_mode": {
    "name": "ipython",
    "version": 3
   },
   "file_extension": ".py",
   "mimetype": "text/x-python",
   "name": "python",
   "nbconvert_exporter": "python",
   "pygments_lexer": "ipython3",
   "version": "3.7.3"
  }
 },
 "nbformat": 4,
 "nbformat_minor": 2
}
