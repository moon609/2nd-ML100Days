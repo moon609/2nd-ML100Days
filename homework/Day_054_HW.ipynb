{
 "cells": [
  {
   "cell_type": "markdown",
   "metadata": {},
   "source": [
    "# 作業\n",
    "* 試著想想看, 非監督學習是否有可能使用評價函數 (Metric) 來鑑別好壞呢?  \n",
    "(Hint : 可以分為 \"有目標值\" 與 \"無目標值\" 兩個方向思考)"
   ]
  },
  {
   "cell_type": "markdown",
   "metadata": {
    "collapsed": true
   },
   "source": [
    "* 應該沒有辦法來鑑別好壞。因為非監督學習的方式，沒有目標值，也就是在這一堆資料裡面沒有所謂的\"好\"或者是\"壞\"。\n",
    "* 取而代之，可以做的方式是依照資料的特性來進行分類。但是這樣的分類只代表著同一組的資料有相同特性，組跟組之間，沒有所謂的好壞，單純特性不同。\n",
    "* 像是以膚色來分類人種，我們可以把白皮膚的人分為一組、黃皮膚的人一組、黑皮膚的人一組，但是沒辦法來鑑別哪一組比較好"
   ]
  }
 ],
 "metadata": {
  "kernelspec": {
   "display_name": "Python 3",
   "language": "python",
   "name": "python3"
  },
  "language_info": {
   "codemirror_mode": {
    "name": "ipython",
    "version": 3
   },
   "file_extension": ".py",
   "mimetype": "text/x-python",
   "name": "python",
   "nbconvert_exporter": "python",
   "pygments_lexer": "ipython3",
   "version": "3.7.3"
  }
 },
 "nbformat": 4,
 "nbformat_minor": 1
}
