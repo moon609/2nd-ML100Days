{
 "cells": [
  {
   "cell_type": "markdown",
   "metadata": {},
   "source": [
    "## Work\n",
    "1. 請嘗試將 preproc_x 替換成以每筆資料的 min/max 進行標準化至 -1 ~ 1 間，再進行訓練\n",
    "2. 請嘗試將 mlp 疊更深 (e.g 5~10 層)，進行訓練後觀察 learning curve 的走勢\n",
    "3. (optional) 請改用 GPU 進行訓練 (如果你有 GPU 的話)，比較使用 CPU 與 GPU 的訓練速度"
   ]
  },
  {
   "cell_type": "code",
   "execution_count": 1,
   "metadata": {},
   "outputs": [
    {
     "data": {
      "text/plain": [
       "'\\nYour code here (optional)\\n確認硬體資源\\n'"
      ]
     },
     "execution_count": 1,
     "metadata": {},
     "output_type": "execute_result"
    }
   ],
   "source": [
    "## \n",
    "\"\"\"\n",
    "Your code here (optional)\n",
    "確認硬體資源\n",
    "\"\"\"\n",
    "# 確認尚無GPU，待電腦升級..."
   ]
  },
  {
   "cell_type": "code",
   "execution_count": 2,
   "metadata": {},
   "outputs": [
    {
     "name": "stderr",
     "output_type": "stream",
     "text": [
      "Using TensorFlow backend.\n"
     ]
    }
   ],
   "source": [
    "import os\n",
    "import keras\n",
    "import numpy as np \n",
    "\n",
    "# 請嘗試設定 GPU：os.environ\n",
    "os.environ[\"CUDA_VISIBLE_DEVICES\"] = \"\""
   ]
  },
  {
   "cell_type": "code",
   "execution_count": 3,
   "metadata": {},
   "outputs": [],
   "source": [
    "train, test = keras.datasets.cifar10.load_data()"
   ]
  },
  {
   "cell_type": "code",
   "execution_count": 4,
   "metadata": {},
   "outputs": [],
   "source": [
    "## 資料前處理\n",
    "# 將 preproc_x 替換成以每筆資料的 min/max 進行標準化至 -1 ~ 1 間 (平均值正規化(Mean Normalization))\n",
    "\n",
    "def preproc_x(x, flatten=True):\n",
    "    x = (x-np.mean(x))/(np.max(x)-np.min(x))\n",
    "    if flatten:\n",
    "        x = x.reshape((len(x), -1))\n",
    "    return x\n",
    "\n",
    "def preproc_y(y, num_classes=10):\n",
    "    if y.shape[-1] == 1:\n",
    "        y = keras.utils.to_categorical(y, num_classes)\n",
    "    return y    "
   ]
  },
  {
   "cell_type": "code",
   "execution_count": 6,
   "metadata": {},
   "outputs": [],
   "source": [
    "x_train, y_train = train\n",
    "x_test, y_test = test\n",
    "\n",
    "# Preproc the inputs\n",
    "x_train = preproc_x(x_train)\n",
    "x_test = preproc_x(x_test)\n",
    "\n",
    "# Preprc the outputs\n",
    "y_train = preproc_y(y_train)\n",
    "y_test = preproc_y(y_test)"
   ]
  },
  {
   "cell_type": "code",
   "execution_count": 7,
   "metadata": {},
   "outputs": [
    {
     "name": "stderr",
     "output_type": "stream",
     "text": [
      "WARNING: Logging before flag parsing goes to stderr.\n",
      "W0803 15:29:01.101141 30396 deprecation_wrapper.py:119] From E:\\Users\\moon\\Anaconda3\\lib\\site-packages\\keras\\backend\\tensorflow_backend.py:74: The name tf.get_default_graph is deprecated. Please use tf.compat.v1.get_default_graph instead.\n",
      "\n",
      "W0803 15:29:01.129143 30396 deprecation_wrapper.py:119] From E:\\Users\\moon\\Anaconda3\\lib\\site-packages\\keras\\backend\\tensorflow_backend.py:517: The name tf.placeholder is deprecated. Please use tf.compat.v1.placeholder instead.\n",
      "\n",
      "W0803 15:29:01.133143 30396 deprecation_wrapper.py:119] From E:\\Users\\moon\\Anaconda3\\lib\\site-packages\\keras\\backend\\tensorflow_backend.py:4138: The name tf.random_uniform is deprecated. Please use tf.random.uniform instead.\n",
      "\n"
     ]
    },
    {
     "name": "stdout",
     "output_type": "stream",
     "text": [
      "_________________________________________________________________\n",
      "Layer (type)                 Output Shape              Param #   \n",
      "=================================================================\n",
      "input_1 (InputLayer)         (None, 3072)              0         \n",
      "_________________________________________________________________\n",
      "hidden_layer1 (Dense)        (None, 512)               1573376   \n",
      "_________________________________________________________________\n",
      "hidden_layer2 (Dense)        (None, 256)               131328    \n",
      "_________________________________________________________________\n",
      "hidden_layer3 (Dense)        (None, 128)               32896     \n",
      "_________________________________________________________________\n",
      "hidden_layer4 (Dense)        (None, 256)               33024     \n",
      "_________________________________________________________________\n",
      "hidden_layer5 (Dense)        (None, 128)               32896     \n",
      "_________________________________________________________________\n",
      "hidden_layer6 (Dense)        (None, 128)               16512     \n",
      "_________________________________________________________________\n",
      "output (Dense)               (None, 10)                1290      \n",
      "=================================================================\n",
      "Total params: 1,821,322\n",
      "Trainable params: 1,821,322\n",
      "Non-trainable params: 0\n",
      "_________________________________________________________________\n"
     ]
    }
   ],
   "source": [
    "# 建立你的神經網路 (mlp疊至6-10層)\n",
    "def build_mlp(input_shape, output_units=10, num_neurons=[512, 256, 128, 256, 128, 128]):\n",
    "    input_layer = keras.layers.Input(input_shape)\n",
    "    \n",
    "    for i, n_units in enumerate(num_neurons):\n",
    "        if i == 0:\n",
    "            x = keras.layers.Dense(units=n_units, activation=\"relu\", name=\"hidden_layer\"+str(i+1))(input_layer)\n",
    "        else:\n",
    "            x = keras.layers.Dense(units=n_units, activation=\"relu\", name=\"hidden_layer\"+str(i+1))(x)\n",
    "    \n",
    "    out = keras.layers.Dense(units=output_units, activation=\"softmax\", name=\"output\")(x)\n",
    "    \n",
    "    model = keras.models.Model(inputs=[input_layer], outputs=[out])\n",
    "    return model\n",
    "\n",
    "model = build_mlp(input_shape=x_train.shape[1:])\n",
    "model.summary()"
   ]
  },
  {
   "cell_type": "code",
   "execution_count": 8,
   "metadata": {},
   "outputs": [],
   "source": [
    "## 超參數設定\n",
    "LEARNING_RATE = 0.001\n",
    "EPOCHS = 100\n",
    "BATCH_SIZE = 256"
   ]
  },
  {
   "cell_type": "code",
   "execution_count": 9,
   "metadata": {},
   "outputs": [
    {
     "name": "stderr",
     "output_type": "stream",
     "text": [
      "W0803 15:29:08.633572 30396 deprecation_wrapper.py:119] From E:\\Users\\moon\\Anaconda3\\lib\\site-packages\\keras\\optimizers.py:790: The name tf.train.Optimizer is deprecated. Please use tf.compat.v1.train.Optimizer instead.\n",
      "\n",
      "W0803 15:29:08.643573 30396 deprecation_wrapper.py:119] From E:\\Users\\moon\\Anaconda3\\lib\\site-packages\\keras\\backend\\tensorflow_backend.py:3295: The name tf.log is deprecated. Please use tf.math.log instead.\n",
      "\n"
     ]
    }
   ],
   "source": [
    "optimizer = keras.optimizers.Adam(lr=LEARNING_RATE)\n",
    "model.compile(loss=\"categorical_crossentropy\", metrics=[\"accuracy\"], optimizer=optimizer)"
   ]
  },
  {
   "cell_type": "code",
   "execution_count": 10,
   "metadata": {},
   "outputs": [
    {
     "name": "stderr",
     "output_type": "stream",
     "text": [
      "W0803 15:29:10.832698 30396 deprecation.py:323] From E:\\Users\\moon\\Anaconda3\\lib\\site-packages\\tensorflow\\python\\ops\\math_grad.py:1250: add_dispatch_support.<locals>.wrapper (from tensorflow.python.ops.array_ops) is deprecated and will be removed in a future version.\n",
      "Instructions for updating:\n",
      "Use tf.where in 2.0, which has the same broadcast rule as np.where\n",
      "W0803 15:29:11.048710 30396 deprecation_wrapper.py:119] From E:\\Users\\moon\\Anaconda3\\lib\\site-packages\\keras\\backend\\tensorflow_backend.py:986: The name tf.assign_add is deprecated. Please use tf.compat.v1.assign_add instead.\n",
      "\n"
     ]
    },
    {
     "name": "stdout",
     "output_type": "stream",
     "text": [
      "Train on 50000 samples, validate on 10000 samples\n",
      "Epoch 1/100\n",
      "50000/50000 [==============================] - 23s 460us/step - loss: 1.6966 - acc: 0.3943 - val_loss: 1.5074 - val_acc: 0.4689\n",
      "Epoch 2/100\n",
      "50000/50000 [==============================] - 20s 405us/step - loss: 1.4509 - acc: 0.4884 - val_loss: 1.4160 - val_acc: 0.4981\n",
      "Epoch 3/100\n",
      "50000/50000 [==============================] - 20s 407us/step - loss: 1.3301 - acc: 0.5273 - val_loss: 1.3814 - val_acc: 0.5157\n",
      "Epoch 4/100\n",
      "50000/50000 [==============================] - 20s 407us/step - loss: 1.2318 - acc: 0.5647 - val_loss: 1.3351 - val_acc: 0.5304\n",
      "Epoch 5/100\n",
      "50000/50000 [==============================] - 20s 403us/step - loss: 1.1459 - acc: 0.5957 - val_loss: 1.3658 - val_acc: 0.5292\n",
      "Epoch 6/100\n",
      "50000/50000 [==============================] - 20s 410us/step - loss: 1.0718 - acc: 0.6205 - val_loss: 1.3430 - val_acc: 0.5298\n",
      "Epoch 7/100\n",
      "50000/50000 [==============================] - 20s 405us/step - loss: 0.9912 - acc: 0.6489 - val_loss: 1.3702 - val_acc: 0.5398\n",
      "Epoch 8/100\n",
      "50000/50000 [==============================] - 20s 402us/step - loss: 0.9179 - acc: 0.6729 - val_loss: 1.3551 - val_acc: 0.5451\n",
      "Epoch 9/100\n",
      "50000/50000 [==============================] - 20s 404us/step - loss: 0.8450 - acc: 0.7004 - val_loss: 1.4475 - val_acc: 0.5407\n",
      "Epoch 10/100\n",
      "50000/50000 [==============================] - 20s 407us/step - loss: 0.7837 - acc: 0.7216 - val_loss: 1.4661 - val_acc: 0.5412\n",
      "Epoch 11/100\n",
      "50000/50000 [==============================] - 20s 404us/step - loss: 0.7130 - acc: 0.7465 - val_loss: 1.5134 - val_acc: 0.5392\n",
      "Epoch 12/100\n",
      "50000/50000 [==============================] - 21s 428us/step - loss: 0.6560 - acc: 0.7670 - val_loss: 1.6084 - val_acc: 0.5340\n",
      "Epoch 13/100\n",
      "50000/50000 [==============================] - 22s 437us/step - loss: 0.5987 - acc: 0.7881 - val_loss: 1.6244 - val_acc: 0.5454\n",
      "Epoch 14/100\n",
      "50000/50000 [==============================] - 25s 491us/step - loss: 0.5527 - acc: 0.8050 - val_loss: 1.6899 - val_acc: 0.5423\n",
      "Epoch 15/100\n",
      "50000/50000 [==============================] - 27s 543us/step - loss: 0.5088 - acc: 0.8191 - val_loss: 1.7918 - val_acc: 0.5357\n",
      "Epoch 16/100\n",
      "50000/50000 [==============================] - 26s 522us/step - loss: 0.4666 - acc: 0.8335 - val_loss: 1.9038 - val_acc: 0.5385\n",
      "Epoch 17/100\n",
      "50000/50000 [==============================] - 24s 476us/step - loss: 0.4269 - acc: 0.8487 - val_loss: 1.9884 - val_acc: 0.5349\n",
      "Epoch 18/100\n",
      "50000/50000 [==============================] - 28s 552us/step - loss: 0.3889 - acc: 0.8631 - val_loss: 2.0794 - val_acc: 0.5377\n",
      "Epoch 19/100\n",
      "50000/50000 [==============================] - 27s 534us/step - loss: 0.3603 - acc: 0.8722 - val_loss: 2.1788 - val_acc: 0.5339\n",
      "Epoch 20/100\n",
      "50000/50000 [==============================] - 24s 482us/step - loss: 0.3359 - acc: 0.8816 - val_loss: 2.3107 - val_acc: 0.5353\n",
      "Epoch 21/100\n",
      "50000/50000 [==============================] - 23s 455us/step - loss: 0.3224 - acc: 0.8866 - val_loss: 2.2676 - val_acc: 0.5325\n",
      "Epoch 22/100\n",
      "50000/50000 [==============================] - 22s 433us/step - loss: 0.2807 - acc: 0.9022 - val_loss: 2.3341 - val_acc: 0.5300\n",
      "Epoch 23/100\n",
      "50000/50000 [==============================] - 21s 411us/step - loss: 0.2697 - acc: 0.9054 - val_loss: 2.4369 - val_acc: 0.5268\n",
      "Epoch 24/100\n",
      "50000/50000 [==============================] - 21s 416us/step - loss: 0.2544 - acc: 0.9115 - val_loss: 2.4630 - val_acc: 0.5307\n",
      "Epoch 25/100\n",
      "50000/50000 [==============================] - 20s 408us/step - loss: 0.2473 - acc: 0.9130 - val_loss: 2.6017 - val_acc: 0.5314\n",
      "Epoch 26/100\n",
      "50000/50000 [==============================] - 21s 414us/step - loss: 0.2223 - acc: 0.9232 - val_loss: 2.6215 - val_acc: 0.5328\n",
      "Epoch 27/100\n",
      "50000/50000 [==============================] - 21s 411us/step - loss: 0.2308 - acc: 0.9189 - val_loss: 2.5928 - val_acc: 0.5341\n",
      "Epoch 28/100\n",
      "50000/50000 [==============================] - 21s 414us/step - loss: 0.1985 - acc: 0.9309 - val_loss: 2.8324 - val_acc: 0.5238\n",
      "Epoch 29/100\n",
      "50000/50000 [==============================] - 21s 414us/step - loss: 0.1984 - acc: 0.9310 - val_loss: 2.7830 - val_acc: 0.5364\n",
      "Epoch 30/100\n",
      "50000/50000 [==============================] - 20s 409us/step - loss: 0.1940 - acc: 0.9328 - val_loss: 2.8581 - val_acc: 0.5336\n",
      "Epoch 31/100\n",
      "50000/50000 [==============================] - 21s 412us/step - loss: 0.1715 - acc: 0.9397 - val_loss: 2.9263 - val_acc: 0.5341\n",
      "Epoch 32/100\n",
      "50000/50000 [==============================] - 21s 413us/step - loss: 0.1613 - acc: 0.9438 - val_loss: 3.1276 - val_acc: 0.5343\n",
      "Epoch 33/100\n",
      "50000/50000 [==============================] - 21s 414us/step - loss: 0.1823 - acc: 0.9370 - val_loss: 2.9624 - val_acc: 0.5307\n",
      "Epoch 34/100\n",
      "50000/50000 [==============================] - 20s 408us/step - loss: 0.1626 - acc: 0.9429 - val_loss: 2.9846 - val_acc: 0.5349\n",
      "Epoch 35/100\n",
      "50000/50000 [==============================] - 21s 412us/step - loss: 0.1506 - acc: 0.9484 - val_loss: 2.9520 - val_acc: 0.5317\n",
      "Epoch 36/100\n",
      "50000/50000 [==============================] - 21s 414us/step - loss: 0.1472 - acc: 0.9493 - val_loss: 3.1348 - val_acc: 0.5326\n",
      "Epoch 37/100\n",
      "50000/50000 [==============================] - 21s 413us/step - loss: 0.1517 - acc: 0.9486 - val_loss: 2.9021 - val_acc: 0.5359\n",
      "Epoch 38/100\n",
      "50000/50000 [==============================] - 21s 420us/step - loss: 0.1428 - acc: 0.9517 - val_loss: 3.1667 - val_acc: 0.5249\n",
      "Epoch 39/100\n",
      "50000/50000 [==============================] - 21s 429us/step - loss: 0.1383 - acc: 0.9531 - val_loss: 3.1671 - val_acc: 0.5340\n",
      "Epoch 40/100\n",
      "50000/50000 [==============================] - 21s 425us/step - loss: 0.1368 - acc: 0.9532 - val_loss: 3.1470 - val_acc: 0.5362\n",
      "Epoch 41/100\n",
      "50000/50000 [==============================] - 21s 424us/step - loss: 0.1257 - acc: 0.9580 - val_loss: 3.2688 - val_acc: 0.5258\n",
      "Epoch 42/100\n",
      "50000/50000 [==============================] - 21s 423us/step - loss: 0.1218 - acc: 0.9589 - val_loss: 3.1852 - val_acc: 0.5261\n",
      "Epoch 43/100\n",
      "50000/50000 [==============================] - 21s 423us/step - loss: 0.1356 - acc: 0.9536 - val_loss: 3.1569 - val_acc: 0.5361\n",
      "Epoch 44/100\n",
      "50000/50000 [==============================] - 20s 408us/step - loss: 0.1212 - acc: 0.9587 - val_loss: 3.2468 - val_acc: 0.5286\n",
      "Epoch 45/100\n",
      "50000/50000 [==============================] - 21s 415us/step - loss: 0.1221 - acc: 0.9587 - val_loss: 3.3770 - val_acc: 0.5316\n",
      "Epoch 46/100\n",
      "50000/50000 [==============================] - 20s 409us/step - loss: 0.1132 - acc: 0.9616 - val_loss: 3.2479 - val_acc: 0.5347\n",
      "Epoch 47/100\n",
      "50000/50000 [==============================] - 20s 406us/step - loss: 0.1110 - acc: 0.9630 - val_loss: 3.3035 - val_acc: 0.5289 - acc: 0.963 - ETA\n",
      "Epoch 48/100\n",
      "50000/50000 [==============================] - 20s 401us/step - loss: 0.1060 - acc: 0.9651 - val_loss: 3.3272 - val_acc: 0.5306\n",
      "Epoch 49/100\n",
      "50000/50000 [==============================] - 20s 406us/step - loss: 0.1132 - acc: 0.9616 - val_loss: 3.2359 - val_acc: 0.5283\n",
      "Epoch 50/100\n",
      "50000/50000 [==============================] - 21s 414us/step - loss: 0.1028 - acc: 0.9653 - val_loss: 3.3308 - val_acc: 0.5252\n",
      "Epoch 51/100\n",
      "50000/50000 [==============================] - 21s 411us/step - loss: 0.1058 - acc: 0.9639 - val_loss: 3.3484 - val_acc: 0.5305\n",
      "Epoch 52/100\n",
      "50000/50000 [==============================] - 21s 410us/step - loss: 0.0996 - acc: 0.9660 - val_loss: 3.4166 - val_acc: 0.5316\n",
      "Epoch 53/100\n",
      "50000/50000 [==============================] - 21s 419us/step - loss: 0.1000 - acc: 0.9661 - val_loss: 3.4412 - val_acc: 0.5405\n",
      "Epoch 54/100\n",
      "50000/50000 [==============================] - 21s 421us/step - loss: 0.0983 - acc: 0.9667 - val_loss: 3.3697 - val_acc: 0.5292\n",
      "Epoch 55/100\n",
      "50000/50000 [==============================] - 21s 412us/step - loss: 0.0961 - acc: 0.9677 - val_loss: 3.4116 - val_acc: 0.5263\n",
      "Epoch 56/100\n",
      "50000/50000 [==============================] - 21s 412us/step - loss: 0.0971 - acc: 0.9666 - val_loss: 3.3930 - val_acc: 0.5292\n",
      "Epoch 57/100\n",
      "50000/50000 [==============================] - 20s 409us/step - loss: 0.0947 - acc: 0.9685 - val_loss: 3.5356 - val_acc: 0.5341\n",
      "Epoch 58/100\n"
     ]
    },
    {
     "name": "stdout",
     "output_type": "stream",
     "text": [
      "50000/50000 [==============================] - 20s 407us/step - loss: 0.0898 - acc: 0.9701 - val_loss: 3.4924 - val_acc: 0.5286\n",
      "Epoch 59/100\n",
      "50000/50000 [==============================] - 20s 410us/step - loss: 0.0988 - acc: 0.9676 - val_loss: 3.4539 - val_acc: 0.5240\n",
      "Epoch 60/100\n",
      "50000/50000 [==============================] - 21s 411us/step - loss: 0.0845 - acc: 0.9719 - val_loss: 3.5287 - val_acc: 0.5267\n",
      "Epoch 61/100\n",
      "50000/50000 [==============================] - 20s 400us/step - loss: 0.0890 - acc: 0.9702 - val_loss: 3.4862 - val_acc: 0.5301\n",
      "Epoch 62/100\n",
      "50000/50000 [==============================] - 20s 408us/step - loss: 0.0859 - acc: 0.9713 - val_loss: 3.5746 - val_acc: 0.5385s: 0.0864 - \n",
      "Epoch 63/100\n",
      "50000/50000 [==============================] - 21s 419us/step - loss: 0.0891 - acc: 0.9706 - val_loss: 3.4366 - val_acc: 0.5284\n",
      "Epoch 64/100\n",
      "50000/50000 [==============================] - 21s 412us/step - loss: 0.0890 - acc: 0.9707 - val_loss: 3.5970 - val_acc: 0.5284\n",
      "Epoch 65/100\n",
      "50000/50000 [==============================] - 20s 405us/step - loss: 0.0918 - acc: 0.9700 - val_loss: 3.3061 - val_acc: 0.5297\n",
      "Epoch 66/100\n",
      "50000/50000 [==============================] - 21s 411us/step - loss: 0.0766 - acc: 0.9750 - val_loss: 3.5466 - val_acc: 0.5308\n",
      "Epoch 67/100\n",
      "50000/50000 [==============================] - 20s 407us/step - loss: 0.0867 - acc: 0.9713 - val_loss: 3.4227 - val_acc: 0.5285\n",
      "Epoch 68/100\n",
      "50000/50000 [==============================] - 21s 410us/step - loss: 0.0898 - acc: 0.9707 - val_loss: 3.4358 - val_acc: 0.5346\n",
      "Epoch 69/100\n",
      "50000/50000 [==============================] - 21s 416us/step - loss: 0.0778 - acc: 0.9742 - val_loss: 3.6123 - val_acc: 0.5386\n",
      "Epoch 70/100\n",
      "50000/50000 [==============================] - 21s 416us/step - loss: 0.0740 - acc: 0.9760 - val_loss: 3.7057 - val_acc: 0.5370\n",
      "Epoch 71/100\n",
      "50000/50000 [==============================] - 21s 415us/step - loss: 0.0847 - acc: 0.9711 - val_loss: 3.5195 - val_acc: 0.5295\n",
      "Epoch 72/100\n",
      "50000/50000 [==============================] - 21s 415us/step - loss: 0.0754 - acc: 0.9757 - val_loss: 3.6323 - val_acc: 0.5367\n",
      "Epoch 73/100\n",
      "50000/50000 [==============================] - 21s 416us/step - loss: 0.0861 - acc: 0.9728 - val_loss: 3.4746 - val_acc: 0.5351\n",
      "Epoch 74/100\n",
      "50000/50000 [==============================] - 21s 415us/step - loss: 0.0652 - acc: 0.9791 - val_loss: 3.4993 - val_acc: 0.5276\n",
      "Epoch 75/100\n",
      "50000/50000 [==============================] - 21s 412us/step - loss: 0.0750 - acc: 0.9754 - val_loss: 3.5389 - val_acc: 0.5316\n",
      "Epoch 76/100\n",
      "50000/50000 [==============================] - 21s 415us/step - loss: 0.0776 - acc: 0.9751 - val_loss: 3.5243 - val_acc: 0.5362\n",
      "Epoch 77/100\n",
      "50000/50000 [==============================] - 21s 421us/step - loss: 0.0758 - acc: 0.9755 - val_loss: 3.7078 - val_acc: 0.5351\n",
      "Epoch 78/100\n",
      "50000/50000 [==============================] - 20s 408us/step - loss: 0.0747 - acc: 0.9755 - val_loss: 3.7499 - val_acc: 0.5251\n",
      "Epoch 79/100\n",
      "50000/50000 [==============================] - 21s 420us/step - loss: 0.0765 - acc: 0.9763 - val_loss: 3.6485 - val_acc: 0.5389\n",
      "Epoch 80/100\n",
      "50000/50000 [==============================] - 21s 420us/step - loss: 0.0609 - acc: 0.9809 - val_loss: 3.7183 - val_acc: 0.5264\n",
      "Epoch 81/100\n",
      "50000/50000 [==============================] - 21s 419us/step - loss: 0.0814 - acc: 0.9739 - val_loss: 3.5786 - val_acc: 0.5251\n",
      "Epoch 82/100\n",
      "50000/50000 [==============================] - 21s 419us/step - loss: 0.0768 - acc: 0.9749 - val_loss: 3.6662 - val_acc: 0.5357\n",
      "Epoch 83/100\n",
      "50000/50000 [==============================] - 21s 417us/step - loss: 0.0613 - acc: 0.9798 - val_loss: 3.6918 - val_acc: 0.5304\n",
      "Epoch 84/100\n",
      "50000/50000 [==============================] - 21s 414us/step - loss: 0.0656 - acc: 0.9794 - val_loss: 3.6504 - val_acc: 0.5331\n",
      "Epoch 85/100\n",
      "50000/50000 [==============================] - 21s 416us/step - loss: 0.0656 - acc: 0.9795 - val_loss: 3.6780 - val_acc: 0.5319\n",
      "Epoch 86/100\n",
      "50000/50000 [==============================] - 21s 418us/step - loss: 0.0685 - acc: 0.9778 - val_loss: 3.6410 - val_acc: 0.5279\n",
      "Epoch 87/100\n",
      "50000/50000 [==============================] - 21s 416us/step - loss: 0.0722 - acc: 0.9770 - val_loss: 3.6632 - val_acc: 0.5288\n",
      "Epoch 88/100\n",
      "50000/50000 [==============================] - 20s 404us/step - loss: 0.0669 - acc: 0.9782 - val_loss: 3.6567 - val_acc: 0.5325\n",
      "Epoch 89/100\n",
      "50000/50000 [==============================] - 21s 412us/step - loss: 0.0674 - acc: 0.9781 - val_loss: 3.7258 - val_acc: 0.5379\n",
      "Epoch 90/100\n",
      "50000/50000 [==============================] - 20s 400us/step - loss: 0.0637 - acc: 0.9794 - val_loss: 3.7791 - val_acc: 0.5358\n",
      "Epoch 91/100\n",
      "50000/50000 [==============================] - 20s 406us/step - loss: 0.0696 - acc: 0.9765 - val_loss: 3.5612 - val_acc: 0.5357\n",
      "Epoch 92/100\n",
      "50000/50000 [==============================] - 20s 408us/step - loss: 0.0600 - acc: 0.9807 - val_loss: 3.6388 - val_acc: 0.5344 2s -\n",
      "Epoch 93/100\n",
      "50000/50000 [==============================] - 20s 399us/step - loss: 0.0578 - acc: 0.9815 - val_loss: 3.6145 - val_acc: 0.5326\n",
      "Epoch 94/100\n",
      "50000/50000 [==============================] - 21s 411us/step - loss: 0.0547 - acc: 0.9828 - val_loss: 3.8318 - val_acc: 0.5347\n",
      "Epoch 95/100\n",
      "50000/50000 [==============================] - 20s 406us/step - loss: 0.0669 - acc: 0.9787 - val_loss: 3.6946 - val_acc: 0.5323\n",
      "Epoch 96/100\n",
      "50000/50000 [==============================] - 20s 408us/step - loss: 0.0632 - acc: 0.9799 - val_loss: 3.5716 - val_acc: 0.5414\n",
      "Epoch 97/100\n",
      "50000/50000 [==============================] - 21s 418us/step - loss: 0.0469 - acc: 0.9844 - val_loss: 3.8595 - val_acc: 0.5290\n",
      "Epoch 98/100\n",
      "50000/50000 [==============================] - 21s 426us/step - loss: 0.0691 - acc: 0.9784 - val_loss: 3.6754 - val_acc: 0.5348\n",
      "Epoch 99/100\n",
      "50000/50000 [==============================] - 21s 415us/step - loss: 0.0554 - acc: 0.9827 - val_loss: 3.8939 - val_acc: 0.5341\n",
      "Epoch 100/100\n",
      "50000/50000 [==============================] - 22s 434us/step - loss: 0.0539 - acc: 0.9829 - val_loss: 3.5795 - val_acc: 0.5375\n"
     ]
    },
    {
     "data": {
      "text/plain": [
       "<keras.callbacks.History at 0x17d595c0>"
      ]
     },
     "execution_count": 10,
     "metadata": {},
     "output_type": "execute_result"
    }
   ],
   "source": [
    "model.fit(x_train, y_train, \n",
    "          epochs=EPOCHS, \n",
    "          batch_size=BATCH_SIZE, \n",
    "          validation_data=(x_test, y_test), \n",
    "          shuffle=True)"
   ]
  },
  {
   "cell_type": "code",
   "execution_count": 12,
   "metadata": {},
   "outputs": [
    {
     "data": {
      "image/png": "[encoded data removed]",
      "text/plain": [
       "<Figure size 432x288 with 1 Axes>"
      ]
     },
     "metadata": {
      "needs_background": "light"
     },
     "output_type": "display_data"
    },
    {
     "data": {
      "image/png": "[encoded data removed]",
      "text/plain": [
       "<Figure size 432x288 with 1 Axes>"
      ]
     },
     "metadata": {
      "needs_background": "light"
     },
     "output_type": "display_data"
    }
   ],
   "source": [
    "import matplotlib.pyplot as plt\n",
    "\n",
    "\n",
    "train_loss = model.history.history[\"loss\"]\n",
    "valid_loss = model.history.history[\"val_loss\"]\n",
    "\n",
    "train_acc = model.history.history[\"acc\"]\n",
    "valid_acc = model.history.history[\"val_acc\"]\n",
    "\n",
    "plt.plot(range(len(train_loss)), train_loss, label=\"train loss\")\n",
    "plt.plot(range(len(valid_loss)), valid_loss, label=\"valid loss\")\n",
    "plt.legend()\n",
    "plt.title(\"Loss\")\n",
    "plt.show()\n",
    "\n",
    "plt.plot(range(len(train_acc)), train_acc, label=\"train accuracy\")\n",
    "plt.plot(range(len(valid_acc)), valid_acc, label=\"valid accuracy\")\n",
    "plt.legend()\n",
    "plt.title(\"Accuracy\")\n",
    "plt.show()"
   ]
  }
 ],
 "metadata": {
  "kernelspec": {
   "display_name": "Python 3",
   "language": "python",
   "name": "python3"
  },
  "language_info": {
   "codemirror_mode": {
    "name": "ipython",
    "version": 3
   },
   "file_extension": ".py",
   "mimetype": "text/x-python",
   "name": "python",
   "nbconvert_exporter": "python",
   "pygments_lexer": "ipython3",
   "version": "3.7.3"
  }
 },
 "nbformat": 4,
 "nbformat_minor": 2
}
