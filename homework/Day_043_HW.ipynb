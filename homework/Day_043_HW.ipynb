{
 "cells": [
  {
   "cell_type": "markdown",
   "metadata": {},
   "source": [
    "## [作業重點]\n",
    "了解隨機森林改善了決策樹的什麼缺點？是用什麼方法改進的？"
   ]
  },
  {
   "cell_type": "markdown",
   "metadata": {},
   "source": [
    "## 作業\n",
    "\n",
    "閱讀以下兩篇文獻，了解隨機森林原理，並試著回答後續的思考問題\n",
    "- [隨機森林 (random forest) - 中文](http://hhtucode.blogspot.tw/2013/06/ml-random-forest.html)\n",
    "- [how random forest works - 英文](https://medium.com/@Synced/how-random-forest-algorithm-works-in-machine-learning-3c0fe15b6674)"
   ]
  },
  {
   "cell_type": "markdown",
   "metadata": {},
   "source": [
    "\n",
    "1. 隨機森林中的每一棵樹，是希望能夠\n",
    "\n",
    "    - 沒有任何限制，讓樹可以持續生長 (讓樹生成很深，讓模型變得複雜)\n",
    "    \n",
    "    - 不要過度生長，避免 Overfitting\n",
    "    \n",
    "    \n",
    "2. 假設總共有 N 筆資料，每棵樹用取後放回的方式抽了總共 N 筆資料生成，請問這棵樹大約使用了多少 % 不重複的原資料生成?\n",
    "hint: 0.632 bootstrap\n"
   ]
  },
  {
   "cell_type": "markdown",
   "metadata": {},
   "source": [
    "### 1. 隨機森林中，建立每一棵樹的差異:\n",
    "#### 1.1. 不同data，這裡使用的採樣方式是Bagging (with replacement)\n",
    "* 每一棵樹的建立，只會使用原始資料裡面的部分資料\n",
    "* 從 N 筆 data 挑資料, 一次挑一筆, 挑出的會再放回去, 最後計算的時候重複的會不算(with replacement), 假設最後為y, N > y\n",
    "\n",
    "#### 1.2. 不同feature (Bagging)\n",
    "* 設定最少要 bagging 出 (k / 2) + 1 的 feature, 才比較有顯著結果, K 為原本的 feature 數量\n",
    "\n",
    "#### Note:\n",
    "* Decision Tree 只要樹夠深，可以做出任何 Function\n",
    "* 不可做任何剪枝\n",
    "* 以Out of Bag(oob)來衡量錯誤率"
   ]
  },
  {
   "cell_type": "markdown",
   "metadata": {},
   "source": [
    "### 假設總共有 N 筆資料，每棵樹用取後放回的方式抽了總共 N 筆資料生成，請問這棵樹大約使用了多少 % 不重複的原資料生成? \n",
    "* bootstrapping method\n",
    "* 每筆資料被抽中的機率為1/N\n",
    "* 每筆資料未被抽中的機率為(1-1/N)\n",
    "* 一筆資料在訓練集中沒出現的機率 = 抽N次都未被選中的機率 = (1-1/N)^N\n",
    "* 當N→無窮大時，(1-1/N)^N → e^(-1) = 0.368\n",
    "* 所以在訓練集的抽樣過程中不會重複被選中的資料數量大約占原資料集的63.2% (1-0.368 = 0.632 = 一個樣本在訓練集中出現的機率)"
   ]
  }
 ],
 "metadata": {
  "kernelspec": {
   "display_name": "Python 3",
   "language": "python",
   "name": "python3"
  },
  "language_info": {
   "codemirror_mode": {
    "name": "ipython",
    "version": 3
   },
   "file_extension": ".py",
   "mimetype": "text/x-python",
   "name": "python",
   "nbconvert_exporter": "python",
   "pygments_lexer": "ipython3",
   "version": "3.7.3"
  }
 },
 "nbformat": 4,
 "nbformat_minor": 2
}
