{
 "cells": [
  {
   "cell_type": "markdown",
   "metadata": {},
   "source": [
    "## 練習時間\n",
    "在小量的資料上，我們用眼睛就可以看得出來程式碼是否有跑出我們理想中的結果\n",
    "\n",
    "請嘗試想像一個你需要的資料結構 (裡面的值可以是隨機的)，然後用上述的方法把它變成 pandas DataFrame\n",
    "\n",
    "#### Ex: 想像一個 dataframe 有兩個欄位，一個是國家，一個是人口，求人口數最多的國家\n",
    "\n",
    "### Hints: [隨機產生數值](https://blog.csdn.net/christianashannon/article/details/78867204)"
   ]
  },
  {
   "cell_type": "code",
   "execution_count": 57,
   "metadata": {},
   "outputs": [],
   "source": [
    "import pandas as pd\n",
    "import numpy as np"
   ]
  },
  {
   "cell_type": "markdown",
   "metadata": {},
   "source": [
    "## 資料表建立之方法一"
   ]
  },
  {
   "cell_type": "code",
   "execution_count": 58,
   "metadata": {},
   "outputs": [
    {
     "name": "stdout",
     "output_type": "stream",
     "text": [
      "              國家         人口\n",
      "0         Taiwan    3000000\n",
      "1  United States   50000000\n",
      "2       Thailand  700000000\n"
     ]
    }
   ],
   "source": [
    "# 建立資料表\n",
    "data = {'國家':['Taiwan','United States','Thailand'] ,\n",
    "        '人口':['3000000','50000000','700000000'] }\n",
    "pop = pd.DataFrame(data)\n",
    "print(pop)"
   ]
  },
  {
   "cell_type": "markdown",
   "metadata": {},
   "source": [
    "## 資料表建立之方法二"
   ]
  },
  {
   "cell_type": "code",
   "execution_count": 59,
   "metadata": {},
   "outputs": [],
   "source": [
    "country = ['Japan','Taiwan','US','Korea','Singapore','Malaysia','England','Australia','France','Egypt']\n",
    "population = np.random.randint (1000000, size=10) # 隨機產生人口資料\n",
    "\n",
    "list_labels = ['country','population']\n",
    "list_cols = [country, population]\n",
    "\n",
    "zipped = list(zip(list_labels,list_cols))"
   ]
  },
  {
   "cell_type": "code",
   "execution_count": 60,
   "metadata": {},
   "outputs": [
    {
     "name": "stdout",
     "output_type": "stream",
     "text": [
      "     country  population\n",
      "0      Japan      251116\n",
      "1     Taiwan      313928\n",
      "2         US      823390\n",
      "3      Korea      529841\n",
      "4  Singapore      551497\n",
      "5   Malaysia       94795\n",
      "6    England      641351\n",
      "7  Australia      669649\n",
      "8     France      683777\n",
      "9      Egypt      753504\n"
     ]
    }
   ],
   "source": [
    "pop_2 = pd.DataFrame(dict(zipped))\n",
    "print(pop_2)"
   ]
  },
  {
   "cell_type": "markdown",
   "metadata": {},
   "source": [
    "### 求人口數最多的國家"
   ]
  },
  {
   "cell_type": "code",
   "execution_count": 61,
   "metadata": {},
   "outputs": [
    {
     "name": "stdout",
     "output_type": "stream",
     "text": [
      "823390\n"
     ]
    }
   ],
   "source": [
    "# 最大人口數\n",
    "maxpop = pop_2['population'].max()\n",
    "print(maxpop)"
   ]
  },
  {
   "cell_type": "code",
   "execution_count": 62,
   "metadata": {},
   "outputs": [
    {
     "name": "stdout",
     "output_type": "stream",
     "text": [
      "2\n"
     ]
    }
   ],
   "source": [
    "#人口數最大的國家所屬之index\n",
    "maxcty = pop_2['population'].idxmax() \n",
    "print(maxcty)"
   ]
  },
  {
   "cell_type": "code",
   "execution_count": 63,
   "metadata": {},
   "outputs": [
    {
     "name": "stdout",
     "output_type": "stream",
     "text": [
      "The country with the largest population is US.\n",
      "Their population is 823390.\n"
     ]
    }
   ],
   "source": [
    "print(\"The country with the largest population is \"+pop_2.loc[maxcty,'country']+'.')\n",
    "print(\"Their population is %d\" % (maxpop) +'.')"
   ]
  }
 ],
 "metadata": {
  "kernelspec": {
   "display_name": "Python 3",
   "language": "python",
   "name": "python3"
  },
  "language_info": {
   "codemirror_mode": {
    "name": "ipython",
    "version": 3
   },
   "file_extension": ".py",
   "mimetype": "text/x-python",
   "name": "python",
   "nbconvert_exporter": "python",
   "pygments_lexer": "ipython3",
   "version": "3.7.3"
  }
 },
 "nbformat": 4,
 "nbformat_minor": 2
}
