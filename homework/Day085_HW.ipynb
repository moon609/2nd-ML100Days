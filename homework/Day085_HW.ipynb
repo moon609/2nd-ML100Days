{
 "cells": [
  {
   "cell_type": "markdown",
   "metadata": {},
   "source": [
    "## Work\n",
    "1. 試改變 monitor \"Validation Accuracy\" 並比較結果\n",
    "2. 調整 earlystop 的等待次數至 10, 25 並比較結果"
   ]
  },
  {
   "cell_type": "markdown",
   "metadata": {},
   "source": [
    "* Validation Accuracy 及 Loss在earlystop為5時的比較：loss在epoch 23 stop, accuracy在epoch 26 stop\n",
    "\n",
    "* earlystop的等待次數的差異 (monitor loss)，等待時間越長，train&valid差異越大\n",
    "* earlystop5: epoch 23 - loss: 1.0041 - acc: 0.6596 - val_loss: 1.4712 - val_acc: 0.4893\n",
    "* earlystop10: epoch 29 - loss: 0.8822 - acc: 0.7088 - val_loss: 1.4852 - val_acc: 0.4952\n",
    "* earlystop25: epoch 46 - loss: 0.5435 - acc: 0.8424 - val_loss: 1.6474 - val_acc: 0.4927"
   ]
  },
  {
   "cell_type": "code",
   "execution_count": 1,
   "metadata": {},
   "outputs": [
    {
     "name": "stderr",
     "output_type": "stream",
     "text": [
      "Using TensorFlow backend.\n"
     ]
    }
   ],
   "source": [
    "import os\n",
    "import keras\n",
    "import matplotlib.pyplot as plt\n",
    "%matplotlib inline\n",
    "\n",
    "\n",
    "# Disable GPU\n",
    "os.environ[\"CUDA_VISIBLE_DEVICES\"] = \"\""
   ]
  },
  {
   "cell_type": "code",
   "execution_count": 2,
   "metadata": {},
   "outputs": [],
   "source": [
    "train, test = keras.datasets.cifar10.load_data()"
   ]
  },
  {
   "cell_type": "code",
   "execution_count": 3,
   "metadata": {},
   "outputs": [],
   "source": [
    "## 資料前處理\n",
    "def preproc_x(x, flatten=True):\n",
    "    x = x / 255.\n",
    "    if flatten:\n",
    "        x = x.reshape((len(x), -1))\n",
    "    return x\n",
    "\n",
    "def preproc_y(y, num_classes=10):\n",
    "    if y.shape[-1] == 1:\n",
    "        y = keras.utils.to_categorical(y, num_classes)\n",
    "    return y    "
   ]
  },
  {
   "cell_type": "code",
   "execution_count": 4,
   "metadata": {},
   "outputs": [],
   "source": [
    "x_train, y_train = train\n",
    "x_test, y_test = test\n",
    "\n",
    "# Preproc the inputs\n",
    "x_train = preproc_x(x_train)\n",
    "x_test = preproc_x(x_test)\n",
    "\n",
    "# Preprc the outputs\n",
    "y_train = preproc_y(y_train)\n",
    "y_test = preproc_y(y_test)"
   ]
  },
  {
   "cell_type": "code",
   "execution_count": 5,
   "metadata": {},
   "outputs": [],
   "source": [
    "from keras.layers import BatchNormalization\n",
    "\n",
    "\"\"\"\n",
    "建立神經網路，並加入 BN layer\n",
    "\"\"\"\n",
    "def build_mlp(input_shape, output_units=10, num_neurons=[512, 256, 128]):\n",
    "    input_layer = keras.layers.Input(input_shape)\n",
    "    \n",
    "    for i, n_units in enumerate(num_neurons):\n",
    "        if i == 0:\n",
    "            x = keras.layers.Dense(units=n_units, \n",
    "                                   activation=\"relu\", \n",
    "                                   name=\"hidden_layer\"+str(i+1))(input_layer)\n",
    "            x = BatchNormalization()(x)\n",
    "        else:\n",
    "            x = keras.layers.Dense(units=n_units, \n",
    "                                   activation=\"relu\", \n",
    "                                   name=\"hidden_layer\"+str(i+1))(x)\n",
    "            x = BatchNormalization()(x)\n",
    "    \n",
    "    out = keras.layers.Dense(units=output_units, activation=\"softmax\", name=\"output\")(x)\n",
    "    \n",
    "    model = keras.models.Model(inputs=[input_layer], outputs=[out])\n",
    "    return model"
   ]
  },
  {
   "cell_type": "code",
   "execution_count": 6,
   "metadata": {},
   "outputs": [],
   "source": [
    "## 超參數設定\n",
    "LEARNING_RATE = 1e-3\n",
    "EPOCHS = 50\n",
    "BATCH_SIZE = 1024\n",
    "MOMENTUM = 0.95"
   ]
  },
  {
   "cell_type": "markdown",
   "metadata": {},
   "source": [
    "## 範例：monitor ''validation loss'' 及  earlystop 的等待次數為5"
   ]
  },
  {
   "cell_type": "code",
   "execution_count": 7,
   "metadata": {},
   "outputs": [],
   "source": [
    "# 載入 Callbacks\n",
    "from keras.callbacks import EarlyStopping\n",
    "\n",
    "earlystop = EarlyStopping(monitor=\"val_loss\", \n",
    "                          patience=5, \n",
    "                          verbose=1\n",
    "                          )"
   ]
  },
  {
   "cell_type": "code",
   "execution_count": 8,
   "metadata": {},
   "outputs": [
    {
     "name": "stderr",
     "output_type": "stream",
     "text": [
      "WARNING: Logging before flag parsing goes to stderr.\n",
      "W0804 18:00:41.258012 43036 deprecation_wrapper.py:119] From E:\\Users\\moon\\Anaconda3\\lib\\site-packages\\keras\\backend\\tensorflow_backend.py:74: The name tf.get_default_graph is deprecated. Please use tf.compat.v1.get_default_graph instead.\n",
      "\n",
      "W0804 18:00:41.272013 43036 deprecation_wrapper.py:119] From E:\\Users\\moon\\Anaconda3\\lib\\site-packages\\keras\\backend\\tensorflow_backend.py:517: The name tf.placeholder is deprecated. Please use tf.compat.v1.placeholder instead.\n",
      "\n",
      "W0804 18:00:41.274013 43036 deprecation_wrapper.py:119] From E:\\Users\\moon\\Anaconda3\\lib\\site-packages\\keras\\backend\\tensorflow_backend.py:4138: The name tf.random_uniform is deprecated. Please use tf.random.uniform instead.\n",
      "\n",
      "W0804 18:00:41.349017 43036 deprecation_wrapper.py:119] From E:\\Users\\moon\\Anaconda3\\lib\\site-packages\\keras\\backend\\tensorflow_backend.py:133: The name tf.placeholder_with_default is deprecated. Please use tf.compat.v1.placeholder_with_default instead.\n",
      "\n",
      "W0804 18:00:41.564029 43036 deprecation_wrapper.py:119] From E:\\Users\\moon\\Anaconda3\\lib\\site-packages\\keras\\optimizers.py:790: The name tf.train.Optimizer is deprecated. Please use tf.compat.v1.train.Optimizer instead.\n",
      "\n",
      "W0804 18:00:41.571030 43036 deprecation_wrapper.py:119] From E:\\Users\\moon\\Anaconda3\\lib\\site-packages\\keras\\backend\\tensorflow_backend.py:3295: The name tf.log is deprecated. Please use tf.math.log instead.\n",
      "\n",
      "W0804 18:00:41.666035 43036 deprecation.py:323] From E:\\Users\\moon\\Anaconda3\\lib\\site-packages\\tensorflow\\python\\ops\\math_grad.py:1250: add_dispatch_support.<locals>.wrapper (from tensorflow.python.ops.array_ops) is deprecated and will be removed in a future version.\n",
      "Instructions for updating:\n",
      "Use tf.where in 2.0, which has the same broadcast rule as np.where\n"
     ]
    },
    {
     "name": "stdout",
     "output_type": "stream",
     "text": [
      "_________________________________________________________________\n",
      "Layer (type)                 Output Shape              Param #   \n",
      "=================================================================\n",
      "input_1 (InputLayer)         (None, 3072)              0         \n",
      "_________________________________________________________________\n",
      "hidden_layer1 (Dense)        (None, 512)               1573376   \n",
      "_________________________________________________________________\n",
      "batch_normalization_1 (Batch (None, 512)               2048      \n",
      "_________________________________________________________________\n",
      "hidden_layer2 (Dense)        (None, 256)               131328    \n",
      "_________________________________________________________________\n",
      "batch_normalization_2 (Batch (None, 256)               1024      \n",
      "_________________________________________________________________\n",
      "hidden_layer3 (Dense)        (None, 128)               32896     \n",
      "_________________________________________________________________\n",
      "batch_normalization_3 (Batch (None, 128)               512       \n",
      "_________________________________________________________________\n",
      "output (Dense)               (None, 10)                1290      \n",
      "=================================================================\n",
      "Total params: 1,742,474\n",
      "Trainable params: 1,740,682\n",
      "Non-trainable params: 1,792\n",
      "_________________________________________________________________\n",
      "Train on 50000 samples, validate on 10000 samples\n",
      "Epoch 1/50\n",
      "50000/50000 [==============================] - 7s 150us/step - loss: 2.2795 - acc: 0.2537 - val_loss: 2.1089 - val_acc: 0.3093\n",
      "Epoch 2/50\n",
      "50000/50000 [==============================] - 7s 131us/step - loss: 1.7470 - acc: 0.3879 - val_loss: 1.8581 - val_acc: 0.3733\n",
      "Epoch 3/50\n",
      "50000/50000 [==============================] - 7s 132us/step - loss: 1.6229 - acc: 0.4313 - val_loss: 1.6902 - val_acc: 0.4088\n",
      "Epoch 4/50\n",
      "50000/50000 [==============================] - 7s 134us/step - loss: 1.5501 - acc: 0.4575 - val_loss: 1.6309 - val_acc: 0.4271\n",
      "Epoch 5/50\n",
      "50000/50000 [==============================] - 7s 131us/step - loss: 1.4930 - acc: 0.4754 - val_loss: 1.5902 - val_acc: 0.4409\n",
      "Epoch 6/50\n",
      "50000/50000 [==============================] - 6s 129us/step - loss: 1.4487 - acc: 0.4926 - val_loss: 1.5673 - val_acc: 0.4482\n",
      "Epoch 7/50\n",
      "50000/50000 [==============================] - 6s 129us/step - loss: 1.4097 - acc: 0.5053 - val_loss: 1.5581 - val_acc: 0.4508\n",
      "Epoch 8/50\n",
      "50000/50000 [==============================] - 7s 132us/step - loss: 1.3739 - acc: 0.5172 - val_loss: 1.5413 - val_acc: 0.4574\n",
      "Epoch 9/50\n",
      "50000/50000 [==============================] - 7s 135us/step - loss: 1.3431 - acc: 0.5299 - val_loss: 1.5193 - val_acc: 0.4673\n",
      "Epoch 10/50\n",
      "50000/50000 [==============================] - 7s 143us/step - loss: 1.3138 - acc: 0.5406 - val_loss: 1.5152 - val_acc: 0.4623\n",
      "Epoch 11/50\n",
      "50000/50000 [==============================] - 7s 137us/step - loss: 1.2848 - acc: 0.5522 - val_loss: 1.4909 - val_acc: 0.4776\n",
      "Epoch 12/50\n",
      "50000/50000 [==============================] - 7s 144us/step - loss: 1.2577 - acc: 0.5622 - val_loss: 1.4968 - val_acc: 0.4740\n",
      "Epoch 13/50\n",
      "50000/50000 [==============================] - 7s 140us/step - loss: 1.2315 - acc: 0.5727 - val_loss: 1.4826 - val_acc: 0.4817\n",
      "Epoch 14/50\n",
      "50000/50000 [==============================] - 7s 138us/step - loss: 1.2079 - acc: 0.5804 - val_loss: 1.4795 - val_acc: 0.4833\n",
      "Epoch 15/50\n",
      "50000/50000 [==============================] - 7s 139us/step - loss: 1.1821 - acc: 0.5910 - val_loss: 1.4707 - val_acc: 0.4850\n",
      "Epoch 16/50\n",
      "50000/50000 [==============================] - 7s 131us/step - loss: 1.1598 - acc: 0.5997 - val_loss: 1.4645 - val_acc: 0.4859\n",
      "Epoch 17/50\n",
      "50000/50000 [==============================] - 7s 131us/step - loss: 1.1379 - acc: 0.6064 - val_loss: 1.4607 - val_acc: 0.4867\n",
      "Epoch 18/50\n",
      "50000/50000 [==============================] - 7s 131us/step - loss: 1.1136 - acc: 0.6173 - val_loss: 1.4546 - val_acc: 0.4897\n",
      "Epoch 19/50\n",
      "50000/50000 [==============================] - 7s 133us/step - loss: 1.0892 - acc: 0.6278 - val_loss: 1.4608 - val_acc: 0.4928\n",
      "Epoch 20/50\n",
      "50000/50000 [==============================] - 7s 133us/step - loss: 1.0690 - acc: 0.6332 - val_loss: 1.4715 - val_acc: 0.4812\n",
      "Epoch 21/50\n",
      "50000/50000 [==============================] - 7s 131us/step - loss: 1.0478 - acc: 0.6432 - val_loss: 1.4631 - val_acc: 0.4916\n",
      "Epoch 22/50\n",
      "50000/50000 [==============================] - 7s 131us/step - loss: 1.0273 - acc: 0.6511 - val_loss: 1.4609 - val_acc: 0.4912\n",
      "Epoch 23/50\n",
      "50000/50000 [==============================] - 7s 130us/step - loss: 1.0041 - acc: 0.6596 - val_loss: 1.4712 - val_acc: 0.4893\n",
      "Epoch 00023: early stopping\n"
     ]
    }
   ],
   "source": [
    "model = build_mlp(input_shape=x_train.shape[1:])\n",
    "model.summary()\n",
    "optimizer = keras.optimizers.SGD(lr=LEARNING_RATE, nesterov=True, momentum=MOMENTUM)\n",
    "model.compile(loss=\"categorical_crossentropy\", metrics=[\"accuracy\"], optimizer=optimizer)\n",
    "\n",
    "model.fit(x_train, y_train, \n",
    "          epochs=EPOCHS, \n",
    "          batch_size=BATCH_SIZE, \n",
    "          validation_data=(x_test, y_test), \n",
    "          shuffle=True,\n",
    "          callbacks=[earlystop]\n",
    "         )\n",
    "\n",
    "# Collect results\n",
    "train_loss = model.history.history[\"loss\"]\n",
    "valid_loss = model.history.history[\"val_loss\"]\n",
    "train_acc = model.history.history[\"acc\"]\n",
    "valid_acc = model.history.history[\"val_acc\"]"
   ]
  },
  {
   "cell_type": "code",
   "execution_count": 9,
   "metadata": {},
   "outputs": [
    {
     "data": {
      "image/png": "[encoded data removed]",
      "text/plain": [
       "<Figure size 432x288 with 1 Axes>"
      ]
     },
     "metadata": {
      "needs_background": "light"
     },
     "output_type": "display_data"
    },
    {
     "data": {
      "image/png": "[encoded data removed]",
      "text/plain": [
       "<Figure size 432x288 with 1 Axes>"
      ]
     },
     "metadata": {
      "needs_background": "light"
     },
     "output_type": "display_data"
    }
   ],
   "source": [
    "import matplotlib.pyplot as plt\n",
    "%matplotlib inline\n",
    "\n",
    "plt.plot(range(len(train_loss)), train_loss, label=\"train loss\")\n",
    "plt.plot(range(len(valid_loss)), valid_loss, label=\"valid loss\")\n",
    "plt.legend()\n",
    "plt.title(\"Loss\")\n",
    "plt.show()\n",
    "\n",
    "plt.plot(range(len(train_acc)), train_acc, label=\"train accuracy\")\n",
    "plt.plot(range(len(valid_acc)), valid_acc, label=\"valid accuracy\")\n",
    "plt.legend()\n",
    "plt.title(\"Accuracy\")\n",
    "plt.show()"
   ]
  },
  {
   "cell_type": "markdown",
   "metadata": {},
   "source": [
    "## 1. 改變 monitor \"Validation Accuracy\" 並比較結果 (earlystop 的等待次數為5)"
   ]
  },
  {
   "cell_type": "code",
   "execution_count": 10,
   "metadata": {},
   "outputs": [],
   "source": [
    "# 載入 Callbacks\n",
    "from keras.callbacks import EarlyStopping\n",
    "\n",
    "earlystop = EarlyStopping(monitor=\"val_acc\", \n",
    "                          patience=5, \n",
    "                          verbose=1\n",
    "                          )"
   ]
  },
  {
   "cell_type": "code",
   "execution_count": 11,
   "metadata": {},
   "outputs": [
    {
     "name": "stdout",
     "output_type": "stream",
     "text": [
      "_________________________________________________________________\n",
      "Layer (type)                 Output Shape              Param #   \n",
      "=================================================================\n",
      "input_2 (InputLayer)         (None, 3072)              0         \n",
      "_________________________________________________________________\n",
      "hidden_layer1 (Dense)        (None, 512)               1573376   \n",
      "_________________________________________________________________\n",
      "batch_normalization_4 (Batch (None, 512)               2048      \n",
      "_________________________________________________________________\n",
      "hidden_layer2 (Dense)        (None, 256)               131328    \n",
      "_________________________________________________________________\n",
      "batch_normalization_5 (Batch (None, 256)               1024      \n",
      "_________________________________________________________________\n",
      "hidden_layer3 (Dense)        (None, 128)               32896     \n",
      "_________________________________________________________________\n",
      "batch_normalization_6 (Batch (None, 128)               512       \n",
      "_________________________________________________________________\n",
      "output (Dense)               (None, 10)                1290      \n",
      "=================================================================\n",
      "Total params: 1,742,474\n",
      "Trainable params: 1,740,682\n",
      "Non-trainable params: 1,792\n",
      "_________________________________________________________________\n",
      "Train on 50000 samples, validate on 10000 samples\n",
      "Epoch 1/50\n",
      "50000/50000 [==============================] - 7s 150us/step - loss: 2.2170 - acc: 0.2717 - val_loss: 2.0688 - val_acc: 0.3234\n",
      "Epoch 2/50\n",
      "50000/50000 [==============================] - 7s 131us/step - loss: 1.7445 - acc: 0.3944 - val_loss: 1.7961 - val_acc: 0.3864\n",
      "Epoch 3/50\n",
      "50000/50000 [==============================] - 7s 134us/step - loss: 1.6195 - acc: 0.4376 - val_loss: 1.7002 - val_acc: 0.4152\n",
      "Epoch 4/50\n",
      "50000/50000 [==============================] - 7s 132us/step - loss: 1.5461 - acc: 0.4612 - val_loss: 1.6226 - val_acc: 0.4357\n",
      "Epoch 5/50\n",
      "50000/50000 [==============================] - 7s 131us/step - loss: 1.4910 - acc: 0.4805 - val_loss: 1.5792 - val_acc: 0.4479\n",
      "Epoch 6/50\n",
      "50000/50000 [==============================] - 7s 132us/step - loss: 1.4450 - acc: 0.4965 - val_loss: 1.5493 - val_acc: 0.4573\n",
      "Epoch 7/50\n",
      "50000/50000 [==============================] - 7s 131us/step - loss: 1.4068 - acc: 0.5113 - val_loss: 1.5416 - val_acc: 0.4626\n",
      "Epoch 8/50\n",
      "50000/50000 [==============================] - 7s 131us/step - loss: 1.3738 - acc: 0.5229 - val_loss: 1.5171 - val_acc: 0.4656\n",
      "Epoch 9/50\n",
      "50000/50000 [==============================] - 7s 130us/step - loss: 1.3421 - acc: 0.5356 - val_loss: 1.5122 - val_acc: 0.4726\n",
      "Epoch 10/50\n",
      "50000/50000 [==============================] - 7s 138us/step - loss: 1.3114 - acc: 0.5473 - val_loss: 1.4999 - val_acc: 0.4708\n",
      "Epoch 11/50\n",
      "50000/50000 [==============================] - 7s 135us/step - loss: 1.2844 - acc: 0.5575 - val_loss: 1.4859 - val_acc: 0.4809\n",
      "Epoch 12/50\n",
      "50000/50000 [==============================] - 7s 135us/step - loss: 1.2568 - acc: 0.5665 - val_loss: 1.4803 - val_acc: 0.4815\n",
      "Epoch 13/50\n",
      "50000/50000 [==============================] - 7s 132us/step - loss: 1.2332 - acc: 0.5735 - val_loss: 1.4814 - val_acc: 0.4777\n",
      "Epoch 14/50\n",
      "50000/50000 [==============================] - 7s 131us/step - loss: 1.2086 - acc: 0.5848 - val_loss: 1.4707 - val_acc: 0.4887\n",
      "Epoch 15/50\n",
      "50000/50000 [==============================] - 6s 129us/step - loss: 1.1842 - acc: 0.5936 - val_loss: 1.4528 - val_acc: 0.4865\n",
      "Epoch 16/50\n",
      "50000/50000 [==============================] - 7s 136us/step - loss: 1.1615 - acc: 0.6029 - val_loss: 1.4492 - val_acc: 0.4894\n",
      "Epoch 17/50\n",
      "50000/50000 [==============================] - 7s 133us/step - loss: 1.1379 - acc: 0.6116 - val_loss: 1.4615 - val_acc: 0.4876\n",
      "Epoch 18/50\n",
      "50000/50000 [==============================] - 7s 131us/step - loss: 1.1155 - acc: 0.6198 - val_loss: 1.4477 - val_acc: 0.4907\n",
      "Epoch 19/50\n",
      "50000/50000 [==============================] - 7s 132us/step - loss: 1.0944 - acc: 0.6294 - val_loss: 1.4473 - val_acc: 0.4933\n",
      "Epoch 20/50\n",
      "50000/50000 [==============================] - 7s 131us/step - loss: 1.0709 - acc: 0.6355 - val_loss: 1.4494 - val_acc: 0.4927\n",
      "Epoch 21/50\n",
      "50000/50000 [==============================] - 7s 131us/step - loss: 1.0501 - acc: 0.6453 - val_loss: 1.4439 - val_acc: 0.4964\n",
      "Epoch 22/50\n",
      "50000/50000 [==============================] - 7s 135us/step - loss: 1.0304 - acc: 0.6527 - val_loss: 1.4579 - val_acc: 0.4879\n",
      "Epoch 23/50\n",
      "50000/50000 [==============================] - 7s 135us/step - loss: 1.0096 - acc: 0.6602 - val_loss: 1.4617 - val_acc: 0.4911\n",
      "Epoch 24/50\n",
      "50000/50000 [==============================] - 7s 142us/step - loss: 0.9904 - acc: 0.6671 - val_loss: 1.4598 - val_acc: 0.4927\n",
      "Epoch 25/50\n",
      "50000/50000 [==============================] - 7s 145us/step - loss: 0.9679 - acc: 0.6764 - val_loss: 1.4563 - val_acc: 0.4932\n",
      "Epoch 26/50\n",
      "50000/50000 [==============================] - 7s 132us/step - loss: 0.9493 - acc: 0.6832 - val_loss: 1.4659 - val_acc: 0.4945\n",
      "Epoch 00026: early stopping\n"
     ]
    }
   ],
   "source": [
    "model = build_mlp(input_shape=x_train.shape[1:])\n",
    "model.summary()\n",
    "optimizer = keras.optimizers.SGD(lr=LEARNING_RATE, nesterov=True, momentum=MOMENTUM)\n",
    "model.compile(loss=\"categorical_crossentropy\", metrics=[\"accuracy\"], optimizer=optimizer)\n",
    "\n",
    "model.fit(x_train, y_train, \n",
    "          epochs=EPOCHS, \n",
    "          batch_size=BATCH_SIZE, \n",
    "          validation_data=(x_test, y_test), \n",
    "          shuffle=True,\n",
    "          callbacks=[earlystop]\n",
    "         )\n",
    "\n",
    "# Collect results\n",
    "train_loss = model.history.history[\"loss\"]\n",
    "valid_loss = model.history.history[\"val_loss\"]\n",
    "train_acc = model.history.history[\"acc\"]\n",
    "valid_acc = model.history.history[\"val_acc\"]"
   ]
  },
  {
   "cell_type": "code",
   "execution_count": 12,
   "metadata": {},
   "outputs": [
    {
     "data": {
      "image/png": "[encoded data removed]",
      "text/plain": [
       "<Figure size 432x288 with 1 Axes>"
      ]
     },
     "metadata": {
      "needs_background": "light"
     },
     "output_type": "display_data"
    },
    {
     "data": {
      "image/png": "[encoded data removed]",
      "text/plain": [
       "<Figure size 432x288 with 1 Axes>"
      ]
     },
     "metadata": {
      "needs_background": "light"
     },
     "output_type": "display_data"
    }
   ],
   "source": [
    "import matplotlib.pyplot as plt\n",
    "%matplotlib inline\n",
    "\n",
    "plt.plot(range(len(train_loss)), train_loss, label=\"train loss\")\n",
    "plt.plot(range(len(valid_loss)), valid_loss, label=\"valid loss\")\n",
    "plt.legend()\n",
    "plt.title(\"Loss\")\n",
    "plt.show()\n",
    "\n",
    "plt.plot(range(len(train_acc)), train_acc, label=\"train accuracy\")\n",
    "plt.plot(range(len(valid_acc)), valid_acc, label=\"valid accuracy\")\n",
    "plt.legend()\n",
    "plt.title(\"Accuracy\")\n",
    "plt.show()"
   ]
  },
  {
   "cell_type": "markdown",
   "metadata": {},
   "source": [
    "## 2. 調整earlystop 的等待次數至 10, 25 並比較結果\n",
    "### 2.1. early stop 10"
   ]
  },
  {
   "cell_type": "code",
   "execution_count": 17,
   "metadata": {},
   "outputs": [],
   "source": [
    "# earlystop10\n",
    "# 載入 Callbacks\n",
    "from keras.callbacks import EarlyStopping\n",
    "\n",
    "earlystop10 = EarlyStopping(monitor=\"val_loss\", \n",
    "                          patience=10, \n",
    "                          verbose=1\n",
    "                          )"
   ]
  },
  {
   "cell_type": "code",
   "execution_count": 18,
   "metadata": {},
   "outputs": [
    {
     "name": "stdout",
     "output_type": "stream",
     "text": [
      "_________________________________________________________________\n",
      "Layer (type)                 Output Shape              Param #   \n",
      "=================================================================\n",
      "input_1 (InputLayer)         (None, 3072)              0         \n",
      "_________________________________________________________________\n",
      "hidden_layer1 (Dense)        (None, 512)               1573376   \n",
      "_________________________________________________________________\n",
      "batch_normalization_1 (Batch (None, 512)               2048      \n",
      "_________________________________________________________________\n",
      "hidden_layer2 (Dense)        (None, 256)               131328    \n",
      "_________________________________________________________________\n",
      "batch_normalization_2 (Batch (None, 256)               1024      \n",
      "_________________________________________________________________\n",
      "hidden_layer3 (Dense)        (None, 128)               32896     \n",
      "_________________________________________________________________\n",
      "batch_normalization_3 (Batch (None, 128)               512       \n",
      "_________________________________________________________________\n",
      "output (Dense)               (None, 10)                1290      \n",
      "=================================================================\n",
      "Total params: 1,742,474\n",
      "Trainable params: 1,740,682\n",
      "Non-trainable params: 1,792\n",
      "_________________________________________________________________\n",
      "Train on 50000 samples, validate on 10000 samples\n",
      "Epoch 1/50\n",
      "50000/50000 [==============================] - 7s 149us/step - loss: 2.2093 - acc: 0.2755 - val_loss: 2.0972 - val_acc: 0.3221\n",
      "Epoch 2/50\n",
      "50000/50000 [==============================] - 7s 134us/step - loss: 1.7521 - acc: 0.3946 - val_loss: 1.8420 - val_acc: 0.3705\n",
      "Epoch 3/50\n",
      "50000/50000 [==============================] - 7s 131us/step - loss: 1.6268 - acc: 0.4310 - val_loss: 1.6928 - val_acc: 0.4153\n",
      "Epoch 4/50\n",
      "50000/50000 [==============================] - 7s 133us/step - loss: 1.5520 - acc: 0.4588 - val_loss: 1.6381 - val_acc: 0.4227\n",
      "Epoch 5/50\n",
      "50000/50000 [==============================] - 7s 137us/step - loss: 1.4948 - acc: 0.4785 - val_loss: 1.5937 - val_acc: 0.4367\n",
      "Epoch 6/50\n",
      "50000/50000 [==============================] - 7s 132us/step - loss: 1.4489 - acc: 0.4938 - val_loss: 1.5659 - val_acc: 0.4523\n",
      "Epoch 7/50\n",
      "50000/50000 [==============================] - 7s 136us/step - loss: 1.4108 - acc: 0.5076 - val_loss: 1.5493 - val_acc: 0.4595\n",
      "Epoch 8/50\n",
      "50000/50000 [==============================] - 7s 136us/step - loss: 1.3757 - acc: 0.5223 - val_loss: 1.5331 - val_acc: 0.4585\n",
      "Epoch 9/50\n",
      "50000/50000 [==============================] - 7s 135us/step - loss: 1.3425 - acc: 0.5339 - val_loss: 1.5210 - val_acc: 0.4609\n",
      "Epoch 10/50\n",
      "50000/50000 [==============================] - 7s 131us/step - loss: 1.3162 - acc: 0.5445 - val_loss: 1.5059 - val_acc: 0.4694\n",
      "Epoch 11/50\n",
      "50000/50000 [==============================] - 7s 132us/step - loss: 1.2850 - acc: 0.5568 - val_loss: 1.4888 - val_acc: 0.4731\n",
      "Epoch 12/50\n",
      "50000/50000 [==============================] - 7s 134us/step - loss: 1.2590 - acc: 0.5632 - val_loss: 1.4900 - val_acc: 0.4733\n",
      "Epoch 13/50\n",
      "50000/50000 [==============================] - 7s 133us/step - loss: 1.2339 - acc: 0.5753 - val_loss: 1.4746 - val_acc: 0.4811\n",
      "Epoch 14/50\n",
      "50000/50000 [==============================] - 7s 133us/step - loss: 1.2075 - acc: 0.5838 - val_loss: 1.4678 - val_acc: 0.4877\n",
      "Epoch 15/50\n",
      "50000/50000 [==============================] - 7s 135us/step - loss: 1.1816 - acc: 0.5948 - val_loss: 1.4788 - val_acc: 0.4840\n",
      "Epoch 16/50\n",
      "50000/50000 [==============================] - 7s 131us/step - loss: 1.1593 - acc: 0.6032 - val_loss: 1.4760 - val_acc: 0.4873\n",
      "Epoch 17/50\n",
      "50000/50000 [==============================] - 7s 131us/step - loss: 1.1378 - acc: 0.6117 - val_loss: 1.4632 - val_acc: 0.4921\n",
      "Epoch 18/50\n",
      "50000/50000 [==============================] - 7s 132us/step - loss: 1.1137 - acc: 0.6217 - val_loss: 1.4502 - val_acc: 0.4944\n",
      "Epoch 19/50\n",
      "50000/50000 [==============================] - 7s 132us/step - loss: 1.0917 - acc: 0.6289 - val_loss: 1.4501 - val_acc: 0.4952\n",
      "Epoch 20/50\n",
      "50000/50000 [==============================] - 7s 134us/step - loss: 1.0687 - acc: 0.6374 - val_loss: 1.4517 - val_acc: 0.4980\n",
      "Epoch 21/50\n",
      "50000/50000 [==============================] - 7s 131us/step - loss: 1.0470 - acc: 0.6442 - val_loss: 1.4597 - val_acc: 0.4940\n",
      "Epoch 22/50\n",
      "50000/50000 [==============================] - 7s 132us/step - loss: 1.0276 - acc: 0.6524 - val_loss: 1.4558 - val_acc: 0.4920\n",
      "Epoch 23/50\n",
      "50000/50000 [==============================] - 7s 133us/step - loss: 1.0060 - acc: 0.6600 - val_loss: 1.4574 - val_acc: 0.4951\n",
      "Epoch 24/50\n",
      "50000/50000 [==============================] - 7s 131us/step - loss: 0.9857 - acc: 0.6673 - val_loss: 1.4602 - val_acc: 0.4963\n",
      "Epoch 25/50\n",
      "50000/50000 [==============================] - 7s 133us/step - loss: 0.9632 - acc: 0.6775 - val_loss: 1.4503 - val_acc: 0.4991\n",
      "Epoch 26/50\n",
      "50000/50000 [==============================] - 7s 132us/step - loss: 0.9438 - acc: 0.6852 - val_loss: 1.4581 - val_acc: 0.5002\n",
      "Epoch 27/50\n",
      "50000/50000 [==============================] - 7s 130us/step - loss: 0.9229 - acc: 0.6912 - val_loss: 1.4712 - val_acc: 0.4916\n",
      "Epoch 28/50\n",
      "50000/50000 [==============================] - 7s 130us/step - loss: 0.9029 - acc: 0.7000 - val_loss: 1.4706 - val_acc: 0.5004\n",
      "Epoch 29/50\n",
      "50000/50000 [==============================] - 7s 131us/step - loss: 0.8822 - acc: 0.7088 - val_loss: 1.4852 - val_acc: 0.4952\n",
      "Epoch 00029: early stopping\n"
     ]
    }
   ],
   "source": [
    "model = build_mlp(input_shape=x_train.shape[1:])\n",
    "model.summary()\n",
    "optimizer = keras.optimizers.SGD(lr=LEARNING_RATE, nesterov=True, momentum=MOMENTUM)\n",
    "model.compile(loss=\"categorical_crossentropy\", metrics=[\"accuracy\"], optimizer=optimizer)\n",
    "\n",
    "model.fit(x_train, y_train, \n",
    "          epochs=EPOCHS, \n",
    "          batch_size=BATCH_SIZE, \n",
    "          validation_data=(x_test, y_test), \n",
    "          shuffle=True,\n",
    "          callbacks=[earlystop10]\n",
    "         )\n",
    "\n",
    "# Collect results\n",
    "train_loss = model.history.history[\"loss\"]\n",
    "valid_loss = model.history.history[\"val_loss\"]\n",
    "train_acc = model.history.history[\"acc\"]\n",
    "valid_acc = model.history.history[\"val_acc\"]"
   ]
  },
  {
   "cell_type": "code",
   "execution_count": 19,
   "metadata": {},
   "outputs": [
    {
     "data": {
      "image/png": "[encoded data removed]",
      "text/plain": [
       "<Figure size 432x288 with 1 Axes>"
      ]
     },
     "metadata": {
      "needs_background": "light"
     },
     "output_type": "display_data"
    },
    {
     "data": {
      "image/png": "[encoded data removed]",
      "text/plain": [
       "<Figure size 432x288 with 1 Axes>"
      ]
     },
     "metadata": {
      "needs_background": "light"
     },
     "output_type": "display_data"
    }
   ],
   "source": [
    "import matplotlib.pyplot as plt\n",
    "%matplotlib inline\n",
    "\n",
    "plt.plot(range(len(train_loss)), train_loss, label=\"train loss\")\n",
    "plt.plot(range(len(valid_loss)), valid_loss, label=\"valid loss\")\n",
    "plt.legend()\n",
    "plt.title(\"Loss\")\n",
    "plt.show()\n",
    "\n",
    "plt.plot(range(len(train_acc)), train_acc, label=\"train accuracy\")\n",
    "plt.plot(range(len(valid_acc)), valid_acc, label=\"valid accuracy\")\n",
    "plt.legend()\n",
    "plt.title(\"Accuracy\")\n",
    "plt.show()"
   ]
  },
  {
   "cell_type": "markdown",
   "metadata": {},
   "source": [
    "## 2. 調整earlystop 的等待次數至 10, 25 並比較結果\n",
    "### 2.2. early stop 25"
   ]
  },
  {
   "cell_type": "code",
   "execution_count": 20,
   "metadata": {},
   "outputs": [],
   "source": [
    "# earlystop25\n",
    "earlystop25 = EarlyStopping(monitor=\"val_loss\", \n",
    "                          patience=25, \n",
    "                          verbose=1\n",
    "                          )"
   ]
  },
  {
   "cell_type": "code",
   "execution_count": 21,
   "metadata": {},
   "outputs": [
    {
     "name": "stdout",
     "output_type": "stream",
     "text": [
      "_________________________________________________________________\n",
      "Layer (type)                 Output Shape              Param #   \n",
      "=================================================================\n",
      "input_2 (InputLayer)         (None, 3072)              0         \n",
      "_________________________________________________________________\n",
      "hidden_layer1 (Dense)        (None, 512)               1573376   \n",
      "_________________________________________________________________\n",
      "batch_normalization_4 (Batch (None, 512)               2048      \n",
      "_________________________________________________________________\n",
      "hidden_layer2 (Dense)        (None, 256)               131328    \n",
      "_________________________________________________________________\n",
      "batch_normalization_5 (Batch (None, 256)               1024      \n",
      "_________________________________________________________________\n",
      "hidden_layer3 (Dense)        (None, 128)               32896     \n",
      "_________________________________________________________________\n",
      "batch_normalization_6 (Batch (None, 128)               512       \n",
      "_________________________________________________________________\n",
      "output (Dense)               (None, 10)                1290      \n",
      "=================================================================\n",
      "Total params: 1,742,474\n",
      "Trainable params: 1,740,682\n",
      "Non-trainable params: 1,792\n",
      "_________________________________________________________________\n",
      "Train on 50000 samples, validate on 10000 samples\n",
      "Epoch 1/50\n",
      "50000/50000 [==============================] - 7s 148us/step - loss: 2.1856 - acc: 0.2743 - val_loss: 2.0592 - val_acc: 0.3278\n",
      "Epoch 2/50\n",
      "50000/50000 [==============================] - 7s 131us/step - loss: 1.7467 - acc: 0.3897 - val_loss: 1.7898 - val_acc: 0.3889\n",
      "Epoch 3/50\n",
      "50000/50000 [==============================] - 7s 133us/step - loss: 1.6203 - acc: 0.4292 - val_loss: 1.6723 - val_acc: 0.4165\n",
      "Epoch 4/50\n",
      "50000/50000 [==============================] - 6s 130us/step - loss: 1.5467 - acc: 0.4556 - val_loss: 1.6269 - val_acc: 0.4301\n",
      "Epoch 5/50\n",
      "50000/50000 [==============================] - 6s 130us/step - loss: 1.4916 - acc: 0.4758 - val_loss: 1.6076 - val_acc: 0.4427\n",
      "Epoch 6/50\n",
      "50000/50000 [==============================] - 7s 131us/step - loss: 1.4456 - acc: 0.4936 - val_loss: 1.5653 - val_acc: 0.4509\n",
      "Epoch 7/50\n",
      "50000/50000 [==============================] - 7s 132us/step - loss: 1.4040 - acc: 0.5093 - val_loss: 1.5488 - val_acc: 0.4558\n",
      "Epoch 8/50\n",
      "50000/50000 [==============================] - 7s 131us/step - loss: 1.3697 - acc: 0.5212 - val_loss: 1.5213 - val_acc: 0.4634\n",
      "Epoch 9/50\n",
      "50000/50000 [==============================] - 7s 132us/step - loss: 1.3354 - acc: 0.5330 - val_loss: 1.5130 - val_acc: 0.4717\n",
      "Epoch 10/50\n",
      "50000/50000 [==============================] - 7s 130us/step - loss: 1.3046 - acc: 0.5459 - val_loss: 1.5023 - val_acc: 0.4725\n",
      "Epoch 11/50\n",
      "50000/50000 [==============================] - 7s 132us/step - loss: 1.2765 - acc: 0.5561 - val_loss: 1.4960 - val_acc: 0.4797\n",
      "Epoch 12/50\n",
      "50000/50000 [==============================] - 7s 133us/step - loss: 1.2476 - acc: 0.5667 - val_loss: 1.4923 - val_acc: 0.4788\n",
      "Epoch 13/50\n",
      "50000/50000 [==============================] - 7s 130us/step - loss: 1.2222 - acc: 0.5749 - val_loss: 1.4817 - val_acc: 0.4796\n",
      "Epoch 14/50\n",
      "50000/50000 [==============================] - 6s 130us/step - loss: 1.1959 - acc: 0.5864 - val_loss: 1.4790 - val_acc: 0.4818\n",
      "Epoch 15/50\n",
      "50000/50000 [==============================] - 7s 131us/step - loss: 1.1744 - acc: 0.5933 - val_loss: 1.4764 - val_acc: 0.4882\n",
      "Epoch 16/50\n",
      "50000/50000 [==============================] - 7s 131us/step - loss: 1.1487 - acc: 0.6037 - val_loss: 1.4684 - val_acc: 0.4902\n",
      "Epoch 17/50\n",
      "50000/50000 [==============================] - 7s 131us/step - loss: 1.1249 - acc: 0.6131 - val_loss: 1.4669 - val_acc: 0.4932\n",
      "Epoch 18/50\n",
      "50000/50000 [==============================] - 7s 135us/step - loss: 1.1022 - acc: 0.6209 - val_loss: 1.4725 - val_acc: 0.4886\n",
      "Epoch 19/50\n",
      "50000/50000 [==============================] - 7s 131us/step - loss: 1.0777 - acc: 0.6317 - val_loss: 1.4668 - val_acc: 0.4886\n",
      "Epoch 20/50\n",
      "50000/50000 [==============================] - 7s 133us/step - loss: 1.0574 - acc: 0.6394 - val_loss: 1.4705 - val_acc: 0.4935\n",
      "Epoch 21/50\n",
      "50000/50000 [==============================] - 7s 133us/step - loss: 1.0352 - acc: 0.6474 - val_loss: 1.4596 - val_acc: 0.4956\n",
      "Epoch 22/50\n",
      "50000/50000 [==============================] - 7s 133us/step - loss: 1.0118 - acc: 0.6570 - val_loss: 1.4605 - val_acc: 0.4979\n",
      "Epoch 23/50\n",
      "50000/50000 [==============================] - 7s 132us/step - loss: 0.9927 - acc: 0.6637 - val_loss: 1.4807 - val_acc: 0.4902\n",
      "Epoch 24/50\n",
      "50000/50000 [==============================] - 7s 132us/step - loss: 0.9709 - acc: 0.6716 - val_loss: 1.4796 - val_acc: 0.4968\n",
      "Epoch 25/50\n",
      "50000/50000 [==============================] - 7s 133us/step - loss: 0.9482 - acc: 0.6824 - val_loss: 1.4830 - val_acc: 0.4939\n",
      "Epoch 26/50\n",
      "50000/50000 [==============================] - 7s 131us/step - loss: 0.9256 - acc: 0.6921 - val_loss: 1.4924 - val_acc: 0.4874\n",
      "Epoch 27/50\n",
      "50000/50000 [==============================] - 7s 132us/step - loss: 0.9076 - acc: 0.6993 - val_loss: 1.4868 - val_acc: 0.4898\n",
      "Epoch 28/50\n",
      "50000/50000 [==============================] - 7s 132us/step - loss: 0.8874 - acc: 0.7050 - val_loss: 1.4835 - val_acc: 0.4960\n",
      "Epoch 29/50\n",
      "50000/50000 [==============================] - 7s 132us/step - loss: 0.8657 - acc: 0.7150 - val_loss: 1.4829 - val_acc: 0.4981\n",
      "Epoch 30/50\n",
      "50000/50000 [==============================] - 7s 134us/step - loss: 0.8460 - acc: 0.7227 - val_loss: 1.5001 - val_acc: 0.4900\n",
      "Epoch 31/50\n",
      "50000/50000 [==============================] - 7s 133us/step - loss: 0.8262 - acc: 0.7307 - val_loss: 1.4923 - val_acc: 0.4989\n",
      "Epoch 32/50\n",
      "50000/50000 [==============================] - 7s 134us/step - loss: 0.8018 - acc: 0.7409 - val_loss: 1.5070 - val_acc: 0.4991\n",
      "Epoch 33/50\n",
      "50000/50000 [==============================] - 7s 133us/step - loss: 0.7849 - acc: 0.7451 - val_loss: 1.5181 - val_acc: 0.4956\n",
      "Epoch 34/50\n",
      "50000/50000 [==============================] - 7s 132us/step - loss: 0.7643 - acc: 0.7543 - val_loss: 1.5208 - val_acc: 0.4977\n",
      "Epoch 35/50\n",
      "50000/50000 [==============================] - 7s 131us/step - loss: 0.7444 - acc: 0.7627 - val_loss: 1.5278 - val_acc: 0.4954\n",
      "Epoch 36/50\n",
      "50000/50000 [==============================] - 7s 133us/step - loss: 0.7270 - acc: 0.7703 - val_loss: 1.5351 - val_acc: 0.4949\n",
      "Epoch 37/50\n",
      "50000/50000 [==============================] - 7s 132us/step - loss: 0.7054 - acc: 0.7798 - val_loss: 1.5543 - val_acc: 0.4943\n",
      "Epoch 38/50\n",
      "50000/50000 [==============================] - 7s 134us/step - loss: 0.6865 - acc: 0.7873 - val_loss: 1.5766 - val_acc: 0.4897\n",
      "Epoch 39/50\n",
      "50000/50000 [==============================] - 7s 133us/step - loss: 0.6678 - acc: 0.7925 - val_loss: 1.5775 - val_acc: 0.4897\n",
      "Epoch 40/50\n",
      "50000/50000 [==============================] - 7s 131us/step - loss: 0.6500 - acc: 0.8028 - val_loss: 1.5858 - val_acc: 0.4928\n",
      "Epoch 41/50\n",
      "50000/50000 [==============================] - 7s 132us/step - loss: 0.6325 - acc: 0.8073 - val_loss: 1.5874 - val_acc: 0.4950\n",
      "Epoch 42/50\n",
      "50000/50000 [==============================] - 7s 131us/step - loss: 0.6149 - acc: 0.8144 - val_loss: 1.5864 - val_acc: 0.4949\n",
      "Epoch 43/50\n",
      "50000/50000 [==============================] - 7s 137us/step - loss: 0.5964 - acc: 0.8218 - val_loss: 1.6046 - val_acc: 0.4971\n",
      "Epoch 44/50\n",
      "50000/50000 [==============================] - 7s 134us/step - loss: 0.5775 - acc: 0.8293 - val_loss: 1.6258 - val_acc: 0.4863\n",
      "Epoch 45/50\n",
      "50000/50000 [==============================] - 7s 132us/step - loss: 0.5609 - acc: 0.8353 - val_loss: 1.6274 - val_acc: 0.4918\n",
      "Epoch 46/50\n",
      "50000/50000 [==============================] - 7s 130us/step - loss: 0.5435 - acc: 0.8424 - val_loss: 1.6474 - val_acc: 0.4927\n",
      "Epoch 00046: early stopping\n"
     ]
    }
   ],
   "source": [
    "model = build_mlp(input_shape=x_train.shape[1:])\n",
    "model.summary()\n",
    "optimizer = keras.optimizers.SGD(lr=LEARNING_RATE, nesterov=True, momentum=MOMENTUM)\n",
    "model.compile(loss=\"categorical_crossentropy\", metrics=[\"accuracy\"], optimizer=optimizer)\n",
    "\n",
    "model.fit(x_train, y_train, \n",
    "          epochs=EPOCHS, \n",
    "          batch_size=BATCH_SIZE, \n",
    "          validation_data=(x_test, y_test), \n",
    "          shuffle=True,\n",
    "          callbacks=[earlystop25]\n",
    "         )\n",
    "\n",
    "# Collect results\n",
    "train_loss = model.history.history[\"loss\"]\n",
    "valid_loss = model.history.history[\"val_loss\"]\n",
    "train_acc = model.history.history[\"acc\"]\n",
    "valid_acc = model.history.history[\"val_acc\"]"
   ]
  },
  {
   "cell_type": "code",
   "execution_count": 22,
   "metadata": {},
   "outputs": [
    {
     "data": {
      "image/png": "[encoded data removed]",
      "text/plain": [
       "<Figure size 432x288 with 1 Axes>"
      ]
     },
     "metadata": {
      "needs_background": "light"
     },
     "output_type": "display_data"
    },
    {
     "data": {
      "image/png": "[encoded data removed]",
      "text/plain": [
       "<Figure size 432x288 with 1 Axes>"
      ]
     },
     "metadata": {
      "needs_background": "light"
     },
     "output_type": "display_data"
    }
   ],
   "source": [
    "import matplotlib.pyplot as plt\n",
    "%matplotlib inline\n",
    "\n",
    "plt.plot(range(len(train_loss)), train_loss, label=\"train loss\")\n",
    "plt.plot(range(len(valid_loss)), valid_loss, label=\"valid loss\")\n",
    "plt.legend()\n",
    "plt.title(\"Loss\")\n",
    "plt.show()\n",
    "\n",
    "plt.plot(range(len(train_acc)), train_acc, label=\"train accuracy\")\n",
    "plt.plot(range(len(valid_acc)), valid_acc, label=\"valid accuracy\")\n",
    "plt.legend()\n",
    "plt.title(\"Accuracy\")\n",
    "plt.show()"
   ]
  },
  {
   "cell_type": "code",
   "execution_count": null,
   "metadata": {},
   "outputs": [],
   "source": []
  }
 ],
 "metadata": {
  "kernelspec": {
   "display_name": "Python 3",
   "language": "python",
   "name": "python3"
  },
  "language_info": {
   "codemirror_mode": {
    "name": "ipython",
    "version": 3
   },
   "file_extension": ".py",
   "mimetype": "text/x-python",
   "name": "python",
   "nbconvert_exporter": "python",
   "pygments_lexer": "ipython3",
   "version": "3.7.3"
  }
 },
 "nbformat": 4,
 "nbformat_minor": 2
}
